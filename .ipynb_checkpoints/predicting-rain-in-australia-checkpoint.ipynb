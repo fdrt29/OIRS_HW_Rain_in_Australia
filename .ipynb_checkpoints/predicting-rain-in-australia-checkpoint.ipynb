{
 "cells": [
  {
   "cell_type": "markdown",
   "id": "65978802",
   "metadata": {
    "papermill": {
     "duration": 0.054538,
     "end_time": "2022-03-16T05:15:16.082142",
     "exception": false,
     "start_time": "2022-03-16T05:15:16.027604",
     "status": "completed"
    },
    "tags": []
   },
   "source": [
    "# <p style=\"background-color:#00843D;font-family:inter;color:#FFCD00;font-size:150%;text-align:center;border-radius:10px 10px;\">Predicting Rain ☔ in Australia 🦘</p>"
   ]
  },
  {
   "cell_type": "markdown",
   "id": "4cb4a1bc",
   "metadata": {
    "papermill": {
     "duration": 0.052395,
     "end_time": "2022-03-16T05:15:16.188696",
     "exception": false,
     "start_time": "2022-03-16T05:15:16.136301",
     "status": "completed"
    },
    "tags": []
   },
   "source": [
    "#### If you like my work, It will be really great of you to upvote this notebook!\n",
    "#### If not then you leaving a comment on what do I need to work on and improve will be really helpful!"
   ]
  },
  {
   "cell_type": "markdown",
   "id": "67e1cb7e",
   "metadata": {
    "papermill": {
     "duration": 0.052255,
     "end_time": "2022-03-16T05:15:16.292599",
     "exception": false,
     "start_time": "2022-03-16T05:15:16.240344",
     "status": "completed"
    },
    "tags": []
   },
   "source": [
    "# <span style=\"color:#00843D;\">Importing Libraries</span>"
   ]
  },
  {
   "cell_type": "code",
   "execution_count": 3,
   "id": "b826335e",
   "metadata": {
    "execution": {
     "iopub.execute_input": "2022-03-16T05:15:16.405880Z",
     "iopub.status.busy": "2022-03-16T05:15:16.405269Z",
     "iopub.status.idle": "2022-03-16T05:15:18.652947Z",
     "shell.execute_reply": "2022-03-16T05:15:18.652236Z",
     "shell.execute_reply.started": "2022-03-16T05:13:31.513187Z"
    },
    "papermill": {
     "duration": 2.308381,
     "end_time": "2022-03-16T05:15:18.653175",
     "exception": false,
     "start_time": "2022-03-16T05:15:16.344794",
     "status": "completed"
    },
    "tags": []
   },
   "outputs": [],
   "source": [
    "import pandas as pd\n",
    "import numpy as np\n",
    "import matplotlib.pyplot as plt\n",
    "import seaborn as sns\n",
    "\n",
    "import plotly.express as px\n",
    "import plotly.graph_objects as go\n",
    "\n",
    "import warnings\n",
    "warnings.simplefilter(\"ignore\")"
   ]
  },
  {
   "cell_type": "markdown",
   "id": "0528c116",
   "metadata": {
    "papermill": {
     "duration": 0.057232,
     "end_time": "2022-03-16T05:15:18.771575",
     "exception": false,
     "start_time": "2022-03-16T05:15:18.714343",
     "status": "completed"
    },
    "tags": []
   },
   "source": [
    "# <span style=\"color:#00843D;\"> Loading up the data </span>"
   ]
  },
  {
   "cell_type": "code",
   "execution_count": 4,
   "id": "d8dcdaec",
   "metadata": {
    "_cell_guid": "b1076dfc-b9ad-4769-8c92-a6c4dae69d19",
    "_uuid": "8f2839f25d086af736a60e9eeb907d3b93b6e0e5",
    "execution": {
     "iopub.execute_input": "2022-03-16T05:15:18.888642Z",
     "iopub.status.busy": "2022-03-16T05:15:18.887478Z",
     "iopub.status.idle": "2022-03-16T05:15:19.480278Z",
     "shell.execute_reply": "2022-03-16T05:15:19.479691Z",
     "shell.execute_reply.started": "2022-03-16T05:13:33.886606Z"
    },
    "papermill": {
     "duration": 0.652238,
     "end_time": "2022-03-16T05:15:19.480425",
     "exception": false,
     "start_time": "2022-03-16T05:15:18.828187",
     "status": "completed"
    },
    "tags": []
   },
   "outputs": [
    {
     "data": {
      "text/html": [
       "<div>\n",
       "<style scoped>\n",
       "    .dataframe tbody tr th:only-of-type {\n",
       "        vertical-align: middle;\n",
       "    }\n",
       "\n",
       "    .dataframe tbody tr th {\n",
       "        vertical-align: top;\n",
       "    }\n",
       "\n",
       "    .dataframe thead th {\n",
       "        text-align: right;\n",
       "    }\n",
       "</style>\n",
       "<table border=\"1\" class=\"dataframe\">\n",
       "  <thead>\n",
       "    <tr style=\"text-align: right;\">\n",
       "      <th></th>\n",
       "      <th>Date</th>\n",
       "      <th>Location</th>\n",
       "      <th>MinTemp</th>\n",
       "      <th>MaxTemp</th>\n",
       "      <th>Rainfall</th>\n",
       "      <th>Evaporation</th>\n",
       "      <th>Sunshine</th>\n",
       "      <th>WindGustDir</th>\n",
       "      <th>WindGustSpeed</th>\n",
       "      <th>WindDir9am</th>\n",
       "      <th>...</th>\n",
       "      <th>Humidity9am</th>\n",
       "      <th>Humidity3pm</th>\n",
       "      <th>Pressure9am</th>\n",
       "      <th>Pressure3pm</th>\n",
       "      <th>Cloud9am</th>\n",
       "      <th>Cloud3pm</th>\n",
       "      <th>Temp9am</th>\n",
       "      <th>Temp3pm</th>\n",
       "      <th>RainToday</th>\n",
       "      <th>RainTomorrow</th>\n",
       "    </tr>\n",
       "  </thead>\n",
       "  <tbody>\n",
       "    <tr>\n",
       "      <th>0</th>\n",
       "      <td>2008-12-01</td>\n",
       "      <td>Albury</td>\n",
       "      <td>13.4</td>\n",
       "      <td>22.9</td>\n",
       "      <td>0.6</td>\n",
       "      <td>NaN</td>\n",
       "      <td>NaN</td>\n",
       "      <td>W</td>\n",
       "      <td>44.0</td>\n",
       "      <td>W</td>\n",
       "      <td>...</td>\n",
       "      <td>71.0</td>\n",
       "      <td>22.0</td>\n",
       "      <td>1007.7</td>\n",
       "      <td>1007.1</td>\n",
       "      <td>8.0</td>\n",
       "      <td>NaN</td>\n",
       "      <td>16.9</td>\n",
       "      <td>21.8</td>\n",
       "      <td>No</td>\n",
       "      <td>No</td>\n",
       "    </tr>\n",
       "    <tr>\n",
       "      <th>1</th>\n",
       "      <td>2008-12-02</td>\n",
       "      <td>Albury</td>\n",
       "      <td>7.4</td>\n",
       "      <td>25.1</td>\n",
       "      <td>0.0</td>\n",
       "      <td>NaN</td>\n",
       "      <td>NaN</td>\n",
       "      <td>WNW</td>\n",
       "      <td>44.0</td>\n",
       "      <td>NNW</td>\n",
       "      <td>...</td>\n",
       "      <td>44.0</td>\n",
       "      <td>25.0</td>\n",
       "      <td>1010.6</td>\n",
       "      <td>1007.8</td>\n",
       "      <td>NaN</td>\n",
       "      <td>NaN</td>\n",
       "      <td>17.2</td>\n",
       "      <td>24.3</td>\n",
       "      <td>No</td>\n",
       "      <td>No</td>\n",
       "    </tr>\n",
       "    <tr>\n",
       "      <th>2</th>\n",
       "      <td>2008-12-03</td>\n",
       "      <td>Albury</td>\n",
       "      <td>12.9</td>\n",
       "      <td>25.7</td>\n",
       "      <td>0.0</td>\n",
       "      <td>NaN</td>\n",
       "      <td>NaN</td>\n",
       "      <td>WSW</td>\n",
       "      <td>46.0</td>\n",
       "      <td>W</td>\n",
       "      <td>...</td>\n",
       "      <td>38.0</td>\n",
       "      <td>30.0</td>\n",
       "      <td>1007.6</td>\n",
       "      <td>1008.7</td>\n",
       "      <td>NaN</td>\n",
       "      <td>2.0</td>\n",
       "      <td>21.0</td>\n",
       "      <td>23.2</td>\n",
       "      <td>No</td>\n",
       "      <td>No</td>\n",
       "    </tr>\n",
       "    <tr>\n",
       "      <th>3</th>\n",
       "      <td>2008-12-04</td>\n",
       "      <td>Albury</td>\n",
       "      <td>9.2</td>\n",
       "      <td>28.0</td>\n",
       "      <td>0.0</td>\n",
       "      <td>NaN</td>\n",
       "      <td>NaN</td>\n",
       "      <td>NE</td>\n",
       "      <td>24.0</td>\n",
       "      <td>SE</td>\n",
       "      <td>...</td>\n",
       "      <td>45.0</td>\n",
       "      <td>16.0</td>\n",
       "      <td>1017.6</td>\n",
       "      <td>1012.8</td>\n",
       "      <td>NaN</td>\n",
       "      <td>NaN</td>\n",
       "      <td>18.1</td>\n",
       "      <td>26.5</td>\n",
       "      <td>No</td>\n",
       "      <td>No</td>\n",
       "    </tr>\n",
       "    <tr>\n",
       "      <th>4</th>\n",
       "      <td>2008-12-05</td>\n",
       "      <td>Albury</td>\n",
       "      <td>17.5</td>\n",
       "      <td>32.3</td>\n",
       "      <td>1.0</td>\n",
       "      <td>NaN</td>\n",
       "      <td>NaN</td>\n",
       "      <td>W</td>\n",
       "      <td>41.0</td>\n",
       "      <td>ENE</td>\n",
       "      <td>...</td>\n",
       "      <td>82.0</td>\n",
       "      <td>33.0</td>\n",
       "      <td>1010.8</td>\n",
       "      <td>1006.0</td>\n",
       "      <td>7.0</td>\n",
       "      <td>8.0</td>\n",
       "      <td>17.8</td>\n",
       "      <td>29.7</td>\n",
       "      <td>No</td>\n",
       "      <td>No</td>\n",
       "    </tr>\n",
       "  </tbody>\n",
       "</table>\n",
       "<p>5 rows × 23 columns</p>\n",
       "</div>"
      ],
      "text/plain": [
       "         Date Location  MinTemp  MaxTemp  Rainfall  Evaporation  Sunshine   \n",
       "0  2008-12-01   Albury     13.4     22.9       0.6          NaN       NaN  \\\n",
       "1  2008-12-02   Albury      7.4     25.1       0.0          NaN       NaN   \n",
       "2  2008-12-03   Albury     12.9     25.7       0.0          NaN       NaN   \n",
       "3  2008-12-04   Albury      9.2     28.0       0.0          NaN       NaN   \n",
       "4  2008-12-05   Albury     17.5     32.3       1.0          NaN       NaN   \n",
       "\n",
       "  WindGustDir  WindGustSpeed WindDir9am  ... Humidity9am  Humidity3pm   \n",
       "0           W           44.0          W  ...        71.0         22.0  \\\n",
       "1         WNW           44.0        NNW  ...        44.0         25.0   \n",
       "2         WSW           46.0          W  ...        38.0         30.0   \n",
       "3          NE           24.0         SE  ...        45.0         16.0   \n",
       "4           W           41.0        ENE  ...        82.0         33.0   \n",
       "\n",
       "   Pressure9am  Pressure3pm  Cloud9am  Cloud3pm  Temp9am  Temp3pm  RainToday   \n",
       "0       1007.7       1007.1       8.0       NaN     16.9     21.8         No  \\\n",
       "1       1010.6       1007.8       NaN       NaN     17.2     24.3         No   \n",
       "2       1007.6       1008.7       NaN       2.0     21.0     23.2         No   \n",
       "3       1017.6       1012.8       NaN       NaN     18.1     26.5         No   \n",
       "4       1010.8       1006.0       7.0       8.0     17.8     29.7         No   \n",
       "\n",
       "   RainTomorrow  \n",
       "0            No  \n",
       "1            No  \n",
       "2            No  \n",
       "3            No  \n",
       "4            No  \n",
       "\n",
       "[5 rows x 23 columns]"
      ]
     },
     "execution_count": 4,
     "metadata": {},
     "output_type": "execute_result"
    }
   ],
   "source": [
    "df = pd.read_csv(\"./input/weatherAUS.csv\")\n",
    "df.head()"
   ]
  },
  {
   "cell_type": "code",
   "execution_count": 5,
   "id": "7e2df3d3",
   "metadata": {
    "execution": {
     "iopub.execute_input": "2022-03-16T05:15:19.592992Z",
     "iopub.status.busy": "2022-03-16T05:15:19.592024Z",
     "iopub.status.idle": "2022-03-16T05:15:19.596924Z",
     "shell.execute_reply": "2022-03-16T05:15:19.596438Z",
     "shell.execute_reply.started": "2022-03-16T05:13:37.213398Z"
    },
    "papermill": {
     "duration": 0.062573,
     "end_time": "2022-03-16T05:15:19.597058",
     "exception": false,
     "start_time": "2022-03-16T05:15:19.534485",
     "status": "completed"
    },
    "tags": []
   },
   "outputs": [
    {
     "data": {
      "text/plain": [
       "(145460, 23)"
      ]
     },
     "execution_count": 5,
     "metadata": {},
     "output_type": "execute_result"
    }
   ],
   "source": [
    "df.shape"
   ]
  },
  {
   "cell_type": "code",
   "execution_count": 6,
   "id": "3c533694",
   "metadata": {
    "execution": {
     "iopub.execute_input": "2022-03-16T05:15:19.709093Z",
     "iopub.status.busy": "2022-03-16T05:15:19.707937Z",
     "iopub.status.idle": "2022-03-16T05:15:19.818211Z",
     "shell.execute_reply": "2022-03-16T05:15:19.817530Z",
     "shell.execute_reply.started": "2022-03-16T05:13:37.455919Z"
    },
    "papermill": {
     "duration": 0.168074,
     "end_time": "2022-03-16T05:15:19.818358",
     "exception": false,
     "start_time": "2022-03-16T05:15:19.650284",
     "status": "completed"
    },
    "tags": []
   },
   "outputs": [
    {
     "data": {
      "text/plain": [
       "Date                 0\n",
       "Location             0\n",
       "MinTemp           1485\n",
       "MaxTemp           1261\n",
       "Rainfall          3261\n",
       "Evaporation      62790\n",
       "Sunshine         69835\n",
       "WindGustDir      10326\n",
       "WindGustSpeed    10263\n",
       "WindDir9am       10566\n",
       "WindDir3pm        4228\n",
       "WindSpeed9am      1767\n",
       "WindSpeed3pm      3062\n",
       "Humidity9am       2654\n",
       "Humidity3pm       4507\n",
       "Pressure9am      15065\n",
       "Pressure3pm      15028\n",
       "Cloud9am         55888\n",
       "Cloud3pm         59358\n",
       "Temp9am           1767\n",
       "Temp3pm           3609\n",
       "RainToday         3261\n",
       "RainTomorrow      3267\n",
       "dtype: int64"
      ]
     },
     "execution_count": 6,
     "metadata": {},
     "output_type": "execute_result"
    }
   ],
   "source": [
    "# Looking for missing values in the dataset\n",
    "df.isna().sum()"
   ]
  },
  {
   "cell_type": "code",
   "execution_count": 7,
   "id": "6fa7f755",
   "metadata": {
    "execution": {
     "iopub.execute_input": "2022-03-16T05:15:19.931067Z",
     "iopub.status.busy": "2022-03-16T05:15:19.929929Z",
     "iopub.status.idle": "2022-03-16T05:15:20.066308Z",
     "shell.execute_reply": "2022-03-16T05:15:20.065759Z",
     "shell.execute_reply.started": "2022-03-16T05:13:39.934644Z"
    },
    "papermill": {
     "duration": 0.195076,
     "end_time": "2022-03-16T05:15:20.066453",
     "exception": false,
     "start_time": "2022-03-16T05:15:19.871377",
     "status": "completed"
    },
    "tags": []
   },
   "outputs": [],
   "source": [
    "# Dropping the missing values from the dataset\n",
    "df.dropna(inplace=True)"
   ]
  },
  {
   "cell_type": "code",
   "execution_count": 8,
   "id": "1e0f4b80",
   "metadata": {
    "execution": {
     "iopub.execute_input": "2022-03-16T05:15:20.178300Z",
     "iopub.status.busy": "2022-03-16T05:15:20.177565Z",
     "iopub.status.idle": "2022-03-16T05:15:20.182484Z",
     "shell.execute_reply": "2022-03-16T05:15:20.182951Z",
     "shell.execute_reply.started": "2022-03-16T05:13:41.237984Z"
    },
    "papermill": {
     "duration": 0.063686,
     "end_time": "2022-03-16T05:15:20.183125",
     "exception": false,
     "start_time": "2022-03-16T05:15:20.119439",
     "status": "completed"
    },
    "tags": []
   },
   "outputs": [
    {
     "data": {
      "text/plain": [
       "(56420, 23)"
      ]
     },
     "execution_count": 8,
     "metadata": {},
     "output_type": "execute_result"
    }
   ],
   "source": [
    "df.shape"
   ]
  },
  {
   "cell_type": "code",
   "execution_count": 9,
   "id": "c13da990",
   "metadata": {
    "execution": {
     "iopub.execute_input": "2022-03-16T05:15:20.294336Z",
     "iopub.status.busy": "2022-03-16T05:15:20.293323Z",
     "iopub.status.idle": "2022-03-16T05:15:20.324942Z",
     "shell.execute_reply": "2022-03-16T05:15:20.325454Z",
     "shell.execute_reply.started": "2022-03-16T05:13:42.973994Z"
    },
    "papermill": {
     "duration": 0.088914,
     "end_time": "2022-03-16T05:15:20.325637",
     "exception": false,
     "start_time": "2022-03-16T05:15:20.236723",
     "status": "completed"
    },
    "tags": []
   },
   "outputs": [],
   "source": [
    "df[\"Date\"] = pd.to_datetime(df[\"Date\"], format = \"%Y-%m-%d\", errors = \"coerce\")"
   ]
  },
  {
   "cell_type": "code",
   "execution_count": 10,
   "id": "cd93fd13",
   "metadata": {
    "execution": {
     "iopub.execute_input": "2022-03-16T05:15:20.437698Z",
     "iopub.status.busy": "2022-03-16T05:15:20.436771Z",
     "iopub.status.idle": "2022-03-16T05:15:20.443777Z",
     "shell.execute_reply": "2022-03-16T05:15:20.444258Z",
     "shell.execute_reply.started": "2022-03-16T05:13:44.545116Z"
    },
    "papermill": {
     "duration": 0.065128,
     "end_time": "2022-03-16T05:15:20.444421",
     "exception": false,
     "start_time": "2022-03-16T05:15:20.379293",
     "status": "completed"
    },
    "tags": []
   },
   "outputs": [
    {
     "data": {
      "text/plain": [
       "Date             datetime64[ns]\n",
       "Location                 object\n",
       "MinTemp                 float64\n",
       "MaxTemp                 float64\n",
       "Rainfall                float64\n",
       "Evaporation             float64\n",
       "Sunshine                float64\n",
       "WindGustDir              object\n",
       "WindGustSpeed           float64\n",
       "WindDir9am               object\n",
       "WindDir3pm               object\n",
       "WindSpeed9am            float64\n",
       "WindSpeed3pm            float64\n",
       "Humidity9am             float64\n",
       "Humidity3pm             float64\n",
       "Pressure9am             float64\n",
       "Pressure3pm             float64\n",
       "Cloud9am                float64\n",
       "Cloud3pm                float64\n",
       "Temp9am                 float64\n",
       "Temp3pm                 float64\n",
       "RainToday                object\n",
       "RainTomorrow             object\n",
       "dtype: object"
      ]
     },
     "execution_count": 10,
     "metadata": {},
     "output_type": "execute_result"
    }
   ],
   "source": [
    "df.dtypes"
   ]
  },
  {
   "cell_type": "code",
   "execution_count": 11,
   "id": "c9850fe6",
   "metadata": {
    "execution": {
     "iopub.execute_input": "2022-03-16T05:15:20.555766Z",
     "iopub.status.busy": "2022-03-16T05:15:20.554796Z",
     "iopub.status.idle": "2022-03-16T05:15:20.645205Z",
     "shell.execute_reply": "2022-03-16T05:15:20.645725Z",
     "shell.execute_reply.started": "2022-03-16T05:13:45.645438Z"
    },
    "papermill": {
     "duration": 0.147748,
     "end_time": "2022-03-16T05:15:20.645891",
     "exception": false,
     "start_time": "2022-03-16T05:15:20.498143",
     "status": "completed"
    },
    "tags": []
   },
   "outputs": [
    {
     "data": {
      "text/html": [
       "<div>\n",
       "<style scoped>\n",
       "    .dataframe tbody tr th:only-of-type {\n",
       "        vertical-align: middle;\n",
       "    }\n",
       "\n",
       "    .dataframe tbody tr th {\n",
       "        vertical-align: top;\n",
       "    }\n",
       "\n",
       "    .dataframe thead th {\n",
       "        text-align: right;\n",
       "    }\n",
       "</style>\n",
       "<table border=\"1\" class=\"dataframe\">\n",
       "  <thead>\n",
       "    <tr style=\"text-align: right;\">\n",
       "      <th></th>\n",
       "      <th>count</th>\n",
       "      <th>mean</th>\n",
       "      <th>min</th>\n",
       "      <th>25%</th>\n",
       "      <th>50%</th>\n",
       "      <th>75%</th>\n",
       "      <th>max</th>\n",
       "      <th>std</th>\n",
       "    </tr>\n",
       "  </thead>\n",
       "  <tbody>\n",
       "    <tr>\n",
       "      <th>Date</th>\n",
       "      <td>56420</td>\n",
       "      <td>2012-09-17 06:16:13.952498944</td>\n",
       "      <td>2007-11-01 00:00:00</td>\n",
       "      <td>2010-07-19 00:00:00</td>\n",
       "      <td>2012-07-28 00:00:00</td>\n",
       "      <td>2014-10-10 00:00:00</td>\n",
       "      <td>2017-06-25 00:00:00</td>\n",
       "      <td>NaN</td>\n",
       "    </tr>\n",
       "    <tr>\n",
       "      <th>MinTemp</th>\n",
       "      <td>56420.0</td>\n",
       "      <td>13.46477</td>\n",
       "      <td>-6.7</td>\n",
       "      <td>8.6</td>\n",
       "      <td>13.2</td>\n",
       "      <td>18.4</td>\n",
       "      <td>31.4</td>\n",
       "      <td>6.416689</td>\n",
       "    </tr>\n",
       "    <tr>\n",
       "      <th>MaxTemp</th>\n",
       "      <td>56420.0</td>\n",
       "      <td>24.219206</td>\n",
       "      <td>4.1</td>\n",
       "      <td>18.7</td>\n",
       "      <td>23.9</td>\n",
       "      <td>29.7</td>\n",
       "      <td>48.1</td>\n",
       "      <td>6.970676</td>\n",
       "    </tr>\n",
       "    <tr>\n",
       "      <th>Rainfall</th>\n",
       "      <td>56420.0</td>\n",
       "      <td>2.130397</td>\n",
       "      <td>0.0</td>\n",
       "      <td>0.0</td>\n",
       "      <td>0.0</td>\n",
       "      <td>0.6</td>\n",
       "      <td>206.2</td>\n",
       "      <td>7.014822</td>\n",
       "    </tr>\n",
       "    <tr>\n",
       "      <th>Evaporation</th>\n",
       "      <td>56420.0</td>\n",
       "      <td>5.503135</td>\n",
       "      <td>0.0</td>\n",
       "      <td>2.8</td>\n",
       "      <td>5.0</td>\n",
       "      <td>7.4</td>\n",
       "      <td>81.2</td>\n",
       "      <td>3.696282</td>\n",
       "    </tr>\n",
       "    <tr>\n",
       "      <th>Sunshine</th>\n",
       "      <td>56420.0</td>\n",
       "      <td>7.735626</td>\n",
       "      <td>0.0</td>\n",
       "      <td>5.0</td>\n",
       "      <td>8.6</td>\n",
       "      <td>10.7</td>\n",
       "      <td>14.5</td>\n",
       "      <td>3.758153</td>\n",
       "    </tr>\n",
       "    <tr>\n",
       "      <th>WindGustSpeed</th>\n",
       "      <td>56420.0</td>\n",
       "      <td>40.877366</td>\n",
       "      <td>9.0</td>\n",
       "      <td>31.0</td>\n",
       "      <td>39.0</td>\n",
       "      <td>48.0</td>\n",
       "      <td>124.0</td>\n",
       "      <td>13.335232</td>\n",
       "    </tr>\n",
       "    <tr>\n",
       "      <th>WindSpeed9am</th>\n",
       "      <td>56420.0</td>\n",
       "      <td>15.667228</td>\n",
       "      <td>2.0</td>\n",
       "      <td>9.0</td>\n",
       "      <td>15.0</td>\n",
       "      <td>20.0</td>\n",
       "      <td>67.0</td>\n",
       "      <td>8.317005</td>\n",
       "    </tr>\n",
       "    <tr>\n",
       "      <th>WindSpeed3pm</th>\n",
       "      <td>56420.0</td>\n",
       "      <td>19.786778</td>\n",
       "      <td>2.0</td>\n",
       "      <td>13.0</td>\n",
       "      <td>19.0</td>\n",
       "      <td>26.0</td>\n",
       "      <td>76.0</td>\n",
       "      <td>8.51018</td>\n",
       "    </tr>\n",
       "    <tr>\n",
       "      <th>Humidity9am</th>\n",
       "      <td>56420.0</td>\n",
       "      <td>65.874123</td>\n",
       "      <td>0.0</td>\n",
       "      <td>55.0</td>\n",
       "      <td>67.0</td>\n",
       "      <td>79.0</td>\n",
       "      <td>100.0</td>\n",
       "      <td>18.513289</td>\n",
       "    </tr>\n",
       "    <tr>\n",
       "      <th>Humidity3pm</th>\n",
       "      <td>56420.0</td>\n",
       "      <td>49.601985</td>\n",
       "      <td>0.0</td>\n",
       "      <td>35.0</td>\n",
       "      <td>50.0</td>\n",
       "      <td>63.0</td>\n",
       "      <td>100.0</td>\n",
       "      <td>20.19704</td>\n",
       "    </tr>\n",
       "    <tr>\n",
       "      <th>Pressure9am</th>\n",
       "      <td>56420.0</td>\n",
       "      <td>1017.239505</td>\n",
       "      <td>980.5</td>\n",
       "      <td>1012.7</td>\n",
       "      <td>1017.2</td>\n",
       "      <td>1021.8</td>\n",
       "      <td>1040.4</td>\n",
       "      <td>6.909357</td>\n",
       "    </tr>\n",
       "    <tr>\n",
       "      <th>Pressure3pm</th>\n",
       "      <td>56420.0</td>\n",
       "      <td>1014.79558</td>\n",
       "      <td>977.1</td>\n",
       "      <td>1010.1</td>\n",
       "      <td>1014.7</td>\n",
       "      <td>1019.4</td>\n",
       "      <td>1038.9</td>\n",
       "      <td>6.870892</td>\n",
       "    </tr>\n",
       "    <tr>\n",
       "      <th>Cloud9am</th>\n",
       "      <td>56420.0</td>\n",
       "      <td>4.241705</td>\n",
       "      <td>0.0</td>\n",
       "      <td>1.0</td>\n",
       "      <td>5.0</td>\n",
       "      <td>7.0</td>\n",
       "      <td>8.0</td>\n",
       "      <td>2.797162</td>\n",
       "    </tr>\n",
       "    <tr>\n",
       "      <th>Cloud3pm</th>\n",
       "      <td>56420.0</td>\n",
       "      <td>4.326515</td>\n",
       "      <td>0.0</td>\n",
       "      <td>2.0</td>\n",
       "      <td>5.0</td>\n",
       "      <td>7.0</td>\n",
       "      <td>9.0</td>\n",
       "      <td>2.647251</td>\n",
       "    </tr>\n",
       "    <tr>\n",
       "      <th>Temp9am</th>\n",
       "      <td>56420.0</td>\n",
       "      <td>18.204961</td>\n",
       "      <td>-0.7</td>\n",
       "      <td>13.1</td>\n",
       "      <td>17.8</td>\n",
       "      <td>23.3</td>\n",
       "      <td>39.4</td>\n",
       "      <td>6.567991</td>\n",
       "    </tr>\n",
       "    <tr>\n",
       "      <th>Temp3pm</th>\n",
       "      <td>56420.0</td>\n",
       "      <td>22.710333</td>\n",
       "      <td>3.7</td>\n",
       "      <td>17.4</td>\n",
       "      <td>22.4</td>\n",
       "      <td>27.9</td>\n",
       "      <td>46.1</td>\n",
       "      <td>6.836543</td>\n",
       "    </tr>\n",
       "  </tbody>\n",
       "</table>\n",
       "</div>"
      ],
      "text/plain": [
       "                 count                           mean                  min   \n",
       "Date             56420  2012-09-17 06:16:13.952498944  2007-11-01 00:00:00  \\\n",
       "MinTemp        56420.0                       13.46477                 -6.7   \n",
       "MaxTemp        56420.0                      24.219206                  4.1   \n",
       "Rainfall       56420.0                       2.130397                  0.0   \n",
       "Evaporation    56420.0                       5.503135                  0.0   \n",
       "Sunshine       56420.0                       7.735626                  0.0   \n",
       "WindGustSpeed  56420.0                      40.877366                  9.0   \n",
       "WindSpeed9am   56420.0                      15.667228                  2.0   \n",
       "WindSpeed3pm   56420.0                      19.786778                  2.0   \n",
       "Humidity9am    56420.0                      65.874123                  0.0   \n",
       "Humidity3pm    56420.0                      49.601985                  0.0   \n",
       "Pressure9am    56420.0                    1017.239505                980.5   \n",
       "Pressure3pm    56420.0                     1014.79558                977.1   \n",
       "Cloud9am       56420.0                       4.241705                  0.0   \n",
       "Cloud3pm       56420.0                       4.326515                  0.0   \n",
       "Temp9am        56420.0                      18.204961                 -0.7   \n",
       "Temp3pm        56420.0                      22.710333                  3.7   \n",
       "\n",
       "                               25%                  50%                  75%   \n",
       "Date           2010-07-19 00:00:00  2012-07-28 00:00:00  2014-10-10 00:00:00  \\\n",
       "MinTemp                        8.6                 13.2                 18.4   \n",
       "MaxTemp                       18.7                 23.9                 29.7   \n",
       "Rainfall                       0.0                  0.0                  0.6   \n",
       "Evaporation                    2.8                  5.0                  7.4   \n",
       "Sunshine                       5.0                  8.6                 10.7   \n",
       "WindGustSpeed                 31.0                 39.0                 48.0   \n",
       "WindSpeed9am                   9.0                 15.0                 20.0   \n",
       "WindSpeed3pm                  13.0                 19.0                 26.0   \n",
       "Humidity9am                   55.0                 67.0                 79.0   \n",
       "Humidity3pm                   35.0                 50.0                 63.0   \n",
       "Pressure9am                 1012.7               1017.2               1021.8   \n",
       "Pressure3pm                 1010.1               1014.7               1019.4   \n",
       "Cloud9am                       1.0                  5.0                  7.0   \n",
       "Cloud3pm                       2.0                  5.0                  7.0   \n",
       "Temp9am                       13.1                 17.8                 23.3   \n",
       "Temp3pm                       17.4                 22.4                 27.9   \n",
       "\n",
       "                               max        std  \n",
       "Date           2017-06-25 00:00:00        NaN  \n",
       "MinTemp                       31.4   6.416689  \n",
       "MaxTemp                       48.1   6.970676  \n",
       "Rainfall                     206.2   7.014822  \n",
       "Evaporation                   81.2   3.696282  \n",
       "Sunshine                      14.5   3.758153  \n",
       "WindGustSpeed                124.0  13.335232  \n",
       "WindSpeed9am                  67.0   8.317005  \n",
       "WindSpeed3pm                  76.0    8.51018  \n",
       "Humidity9am                  100.0  18.513289  \n",
       "Humidity3pm                  100.0   20.19704  \n",
       "Pressure9am                 1040.4   6.909357  \n",
       "Pressure3pm                 1038.9   6.870892  \n",
       "Cloud9am                       8.0   2.797162  \n",
       "Cloud3pm                       9.0   2.647251  \n",
       "Temp9am                       39.4   6.567991  \n",
       "Temp3pm                       46.1   6.836543  "
      ]
     },
     "execution_count": 11,
     "metadata": {},
     "output_type": "execute_result"
    }
   ],
   "source": [
    "df.describe().T"
   ]
  },
  {
   "cell_type": "code",
   "execution_count": 12,
   "id": "885f147e",
   "metadata": {
    "execution": {
     "iopub.execute_input": "2022-03-16T05:15:20.758655Z",
     "iopub.status.busy": "2022-03-16T05:15:20.757692Z",
     "iopub.status.idle": "2022-03-16T05:15:22.307415Z",
     "shell.execute_reply": "2022-03-16T05:15:22.307921Z",
     "shell.execute_reply.started": "2022-03-16T05:14:13.712989Z"
    },
    "papermill": {
     "duration": 1.607804,
     "end_time": "2022-03-16T05:15:22.308111",
     "exception": false,
     "start_time": "2022-03-16T05:15:20.700307",
     "status": "completed"
    },
    "tags": []
   },
   "outputs": [
    {
     "ename": "ValueError",
     "evalue": "could not convert string to float: 'Cobar'",
     "output_type": "error",
     "traceback": [
      "\u001b[1;31m---------------------------------------------------------------------------\u001b[0m",
      "\u001b[1;31mValueError\u001b[0m                                Traceback (most recent call last)",
      "Cell \u001b[1;32mIn[12], line 4\u001b[0m\n\u001b[0;32m      1\u001b[0m \u001b[38;5;66;03m# Having a look at the correlation matrix\u001b[39;00m\n\u001b[0;32m      3\u001b[0m fig, ax \u001b[38;5;241m=\u001b[39m plt\u001b[38;5;241m.\u001b[39msubplots(figsize\u001b[38;5;241m=\u001b[39m(\u001b[38;5;241m10\u001b[39m,\u001b[38;5;241m10\u001b[39m))\n\u001b[1;32m----> 4\u001b[0m sns\u001b[38;5;241m.\u001b[39mheatmap(\u001b[43mdf\u001b[49m\u001b[38;5;241;43m.\u001b[39;49m\u001b[43mcorr\u001b[49m\u001b[43m(\u001b[49m\u001b[43m)\u001b[49m, annot\u001b[38;5;241m=\u001b[39m\u001b[38;5;28;01mTrue\u001b[39;00m, fmt\u001b[38;5;241m=\u001b[39m\u001b[38;5;124m'\u001b[39m\u001b[38;5;124m.1g\u001b[39m\u001b[38;5;124m'\u001b[39m, cmap\u001b[38;5;241m=\u001b[39m\u001b[38;5;124m\"\u001b[39m\u001b[38;5;124mviridis\u001b[39m\u001b[38;5;124m\"\u001b[39m, cbar\u001b[38;5;241m=\u001b[39m\u001b[38;5;28;01mFalse\u001b[39;00m);\n",
      "File \u001b[1;32m~\\AppData\\Local\\Packages\\PythonSoftwareFoundation.Python.3.11_qbz5n2kfra8p0\\LocalCache\\local-packages\\Python311\\site-packages\\pandas\\core\\frame.py:10054\u001b[0m, in \u001b[0;36mDataFrame.corr\u001b[1;34m(self, method, min_periods, numeric_only)\u001b[0m\n\u001b[0;32m  10052\u001b[0m cols \u001b[38;5;241m=\u001b[39m data\u001b[38;5;241m.\u001b[39mcolumns\n\u001b[0;32m  10053\u001b[0m idx \u001b[38;5;241m=\u001b[39m cols\u001b[38;5;241m.\u001b[39mcopy()\n\u001b[1;32m> 10054\u001b[0m mat \u001b[38;5;241m=\u001b[39m \u001b[43mdata\u001b[49m\u001b[38;5;241;43m.\u001b[39;49m\u001b[43mto_numpy\u001b[49m\u001b[43m(\u001b[49m\u001b[43mdtype\u001b[49m\u001b[38;5;241;43m=\u001b[39;49m\u001b[38;5;28;43mfloat\u001b[39;49m\u001b[43m,\u001b[49m\u001b[43m \u001b[49m\u001b[43mna_value\u001b[49m\u001b[38;5;241;43m=\u001b[39;49m\u001b[43mnp\u001b[49m\u001b[38;5;241;43m.\u001b[39;49m\u001b[43mnan\u001b[49m\u001b[43m,\u001b[49m\u001b[43m \u001b[49m\u001b[43mcopy\u001b[49m\u001b[38;5;241;43m=\u001b[39;49m\u001b[38;5;28;43;01mFalse\u001b[39;49;00m\u001b[43m)\u001b[49m\n\u001b[0;32m  10056\u001b[0m \u001b[38;5;28;01mif\u001b[39;00m method \u001b[38;5;241m==\u001b[39m \u001b[38;5;124m\"\u001b[39m\u001b[38;5;124mpearson\u001b[39m\u001b[38;5;124m\"\u001b[39m:\n\u001b[0;32m  10057\u001b[0m     correl \u001b[38;5;241m=\u001b[39m libalgos\u001b[38;5;241m.\u001b[39mnancorr(mat, minp\u001b[38;5;241m=\u001b[39mmin_periods)\n",
      "File \u001b[1;32m~\\AppData\\Local\\Packages\\PythonSoftwareFoundation.Python.3.11_qbz5n2kfra8p0\\LocalCache\\local-packages\\Python311\\site-packages\\pandas\\core\\frame.py:1837\u001b[0m, in \u001b[0;36mDataFrame.to_numpy\u001b[1;34m(self, dtype, copy, na_value)\u001b[0m\n\u001b[0;32m   1835\u001b[0m \u001b[38;5;28;01mif\u001b[39;00m dtype \u001b[38;5;129;01mis\u001b[39;00m \u001b[38;5;129;01mnot\u001b[39;00m \u001b[38;5;28;01mNone\u001b[39;00m:\n\u001b[0;32m   1836\u001b[0m     dtype \u001b[38;5;241m=\u001b[39m np\u001b[38;5;241m.\u001b[39mdtype(dtype)\n\u001b[1;32m-> 1837\u001b[0m result \u001b[38;5;241m=\u001b[39m \u001b[38;5;28;43mself\u001b[39;49m\u001b[38;5;241;43m.\u001b[39;49m\u001b[43m_mgr\u001b[49m\u001b[38;5;241;43m.\u001b[39;49m\u001b[43mas_array\u001b[49m\u001b[43m(\u001b[49m\u001b[43mdtype\u001b[49m\u001b[38;5;241;43m=\u001b[39;49m\u001b[43mdtype\u001b[49m\u001b[43m,\u001b[49m\u001b[43m \u001b[49m\u001b[43mcopy\u001b[49m\u001b[38;5;241;43m=\u001b[39;49m\u001b[43mcopy\u001b[49m\u001b[43m,\u001b[49m\u001b[43m \u001b[49m\u001b[43mna_value\u001b[49m\u001b[38;5;241;43m=\u001b[39;49m\u001b[43mna_value\u001b[49m\u001b[43m)\u001b[49m\n\u001b[0;32m   1838\u001b[0m \u001b[38;5;28;01mif\u001b[39;00m result\u001b[38;5;241m.\u001b[39mdtype \u001b[38;5;129;01mis\u001b[39;00m \u001b[38;5;129;01mnot\u001b[39;00m dtype:\n\u001b[0;32m   1839\u001b[0m     result \u001b[38;5;241m=\u001b[39m np\u001b[38;5;241m.\u001b[39marray(result, dtype\u001b[38;5;241m=\u001b[39mdtype, copy\u001b[38;5;241m=\u001b[39m\u001b[38;5;28;01mFalse\u001b[39;00m)\n",
      "File \u001b[1;32m~\\AppData\\Local\\Packages\\PythonSoftwareFoundation.Python.3.11_qbz5n2kfra8p0\\LocalCache\\local-packages\\Python311\\site-packages\\pandas\\core\\internals\\managers.py:1732\u001b[0m, in \u001b[0;36mBlockManager.as_array\u001b[1;34m(self, dtype, copy, na_value)\u001b[0m\n\u001b[0;32m   1730\u001b[0m         arr\u001b[38;5;241m.\u001b[39mflags\u001b[38;5;241m.\u001b[39mwriteable \u001b[38;5;241m=\u001b[39m \u001b[38;5;28;01mFalse\u001b[39;00m\n\u001b[0;32m   1731\u001b[0m \u001b[38;5;28;01melse\u001b[39;00m:\n\u001b[1;32m-> 1732\u001b[0m     arr \u001b[38;5;241m=\u001b[39m \u001b[38;5;28;43mself\u001b[39;49m\u001b[38;5;241;43m.\u001b[39;49m\u001b[43m_interleave\u001b[49m\u001b[43m(\u001b[49m\u001b[43mdtype\u001b[49m\u001b[38;5;241;43m=\u001b[39;49m\u001b[43mdtype\u001b[49m\u001b[43m,\u001b[49m\u001b[43m \u001b[49m\u001b[43mna_value\u001b[49m\u001b[38;5;241;43m=\u001b[39;49m\u001b[43mna_value\u001b[49m\u001b[43m)\u001b[49m\n\u001b[0;32m   1733\u001b[0m     \u001b[38;5;66;03m# The underlying data was copied within _interleave, so no need\u001b[39;00m\n\u001b[0;32m   1734\u001b[0m     \u001b[38;5;66;03m# to further copy if copy=True or setting na_value\u001b[39;00m\n\u001b[0;32m   1736\u001b[0m \u001b[38;5;28;01mif\u001b[39;00m na_value \u001b[38;5;129;01mis\u001b[39;00m \u001b[38;5;129;01mnot\u001b[39;00m lib\u001b[38;5;241m.\u001b[39mno_default:\n",
      "File \u001b[1;32m~\\AppData\\Local\\Packages\\PythonSoftwareFoundation.Python.3.11_qbz5n2kfra8p0\\LocalCache\\local-packages\\Python311\\site-packages\\pandas\\core\\internals\\managers.py:1794\u001b[0m, in \u001b[0;36mBlockManager._interleave\u001b[1;34m(self, dtype, na_value)\u001b[0m\n\u001b[0;32m   1792\u001b[0m     \u001b[38;5;28;01melse\u001b[39;00m:\n\u001b[0;32m   1793\u001b[0m         arr \u001b[38;5;241m=\u001b[39m blk\u001b[38;5;241m.\u001b[39mget_values(dtype)\n\u001b[1;32m-> 1794\u001b[0m     \u001b[43mresult\u001b[49m\u001b[43m[\u001b[49m\u001b[43mrl\u001b[49m\u001b[38;5;241;43m.\u001b[39;49m\u001b[43mindexer\u001b[49m\u001b[43m]\u001b[49m \u001b[38;5;241m=\u001b[39m arr\n\u001b[0;32m   1795\u001b[0m     itemmask[rl\u001b[38;5;241m.\u001b[39mindexer] \u001b[38;5;241m=\u001b[39m \u001b[38;5;241m1\u001b[39m\n\u001b[0;32m   1797\u001b[0m \u001b[38;5;28;01mif\u001b[39;00m \u001b[38;5;129;01mnot\u001b[39;00m itemmask\u001b[38;5;241m.\u001b[39mall():\n",
      "\u001b[1;31mValueError\u001b[0m: could not convert string to float: 'Cobar'"
     ]
    },
    {
     "data": {
      "image/png": "[encoded data removed]",
      "text/plain": [
       "<Figure size 1000x1000 with 1 Axes>"
      ]
     },
     "metadata": {},
     "output_type": "display_data"
    }
   ],
   "source": [
    "# Having a look at the correlation matrix\n",
    "\n",
    "fig, ax = plt.subplots(figsize=(10,10))\n",
    "sns.heatmap(df.corr(), annot=True, fmt='.1g', cmap=\"viridis\", cbar=False);"
   ]
  },
  {
   "cell_type": "code",
   "execution_count": null,
   "id": "f9d480ff",
   "metadata": {
    "execution": {
     "iopub.execute_input": "2022-03-16T05:15:22.427947Z",
     "iopub.status.busy": "2022-03-16T05:15:22.427284Z",
     "iopub.status.idle": "2022-03-16T05:15:22.452353Z",
     "shell.execute_reply": "2022-03-16T05:15:22.452878Z",
     "shell.execute_reply.started": "2022-01-31T09:31:02.317988Z"
    },
    "papermill": {
     "duration": 0.086773,
     "end_time": "2022-03-16T05:15:22.453047",
     "exception": false,
     "start_time": "2022-03-16T05:15:22.366274",
     "status": "completed"
    },
    "tags": []
   },
   "outputs": [],
   "source": [
    "# Mapping Yes:1, No:0\n",
    "\n",
    "df['RainTomorrow'] = df['RainTomorrow'].map({'Yes': 1, 'No': 0})\n",
    "df['RainToday'] = df['RainToday'].map({'Yes': 1, 'No': 0})"
   ]
  },
  {
   "cell_type": "code",
   "execution_count": null,
   "id": "1d940ff9",
   "metadata": {
    "execution": {
     "iopub.execute_input": "2022-03-16T05:15:22.576807Z",
     "iopub.status.busy": "2022-03-16T05:15:22.576162Z",
     "iopub.status.idle": "2022-03-16T05:15:22.579083Z",
     "shell.execute_reply": "2022-03-16T05:15:22.579595Z",
     "shell.execute_reply.started": "2022-01-31T09:31:02.33774Z"
    },
    "papermill": {
     "duration": 0.067795,
     "end_time": "2022-03-16T05:15:22.579787",
     "exception": false,
     "start_time": "2022-03-16T05:15:22.511992",
     "status": "completed"
    },
    "tags": []
   },
   "outputs": [],
   "source": [
    "data = df\n",
    "df.dtypes"
   ]
  },
  {
   "cell_type": "markdown",
   "id": "3f411f8b",
   "metadata": {
    "papermill": {
     "duration": 0.057705,
     "end_time": "2022-03-16T05:15:22.695446",
     "exception": false,
     "start_time": "2022-03-16T05:15:22.637741",
     "status": "completed"
    },
    "tags": []
   },
   "source": [
    "# <p style=\"background-color:#00843D;font-family:inter;color:#FFCD00;font-size:150%;text-align:center;border-radius:10px 10px;\">Analysis</p>"
   ]
  },
  {
   "cell_type": "code",
   "execution_count": null,
   "id": "1fe09be4",
   "metadata": {
    "execution": {
     "iopub.execute_input": "2022-03-16T05:15:22.815749Z",
     "iopub.status.busy": "2022-03-16T05:15:22.815108Z",
     "iopub.status.idle": "2022-03-16T05:15:23.313273Z",
     "shell.execute_reply": "2022-03-16T05:15:23.313774Z",
     "shell.execute_reply.started": "2022-01-31T09:31:02.345992Z"
    },
    "papermill": {
     "duration": 0.56043,
     "end_time": "2022-03-16T05:15:23.313936",
     "exception": false,
     "start_time": "2022-03-16T05:15:22.753506",
     "status": "completed"
    },
    "tags": []
   },
   "outputs": [],
   "source": [
    "plt.style.use(\"seaborn\")\n",
    "fig, ax =plt.subplots(2,1, figsize=(20,8)) \n",
    "\n",
    "sns.lineplot(data=data, x = 'Date', y = \"Rainfall\", ci=None, ax=ax[0], color=\"navy\")\n",
    "ax[0].set_title(\"Rainfall Along the Years\", fontsize=18)\n",
    "\n",
    "sns.lineplot(data=data, x = 'Date', y = \"Evaporation\", ci=None, ax=ax[1], color=\"darkorange\")\n",
    "ax[1].set_title(\"Evaporation Along the Years\", fontsize=18)\n",
    "\n",
    "plt.subplots_adjust(hspace = 0.5)\n",
    "\n",
    "plt.show()"
   ]
  },
  {
   "cell_type": "code",
   "execution_count": null,
   "id": "f394896e",
   "metadata": {
    "execution": {
     "iopub.execute_input": "2022-03-16T05:15:23.443435Z",
     "iopub.status.busy": "2022-03-16T05:15:23.442761Z",
     "iopub.status.idle": "2022-03-16T05:15:23.673950Z",
     "shell.execute_reply": "2022-03-16T05:15:23.673343Z",
     "shell.execute_reply.started": "2022-01-31T09:31:02.787162Z"
    },
    "papermill": {
     "duration": 0.296869,
     "end_time": "2022-03-16T05:15:23.674112",
     "exception": false,
     "start_time": "2022-03-16T05:15:23.377243",
     "status": "completed"
    },
    "tags": []
   },
   "outputs": [],
   "source": [
    "plt.style.use(\"seaborn\")\n",
    "fig, ax =plt.subplots(1,2, figsize=(15,8))\n",
    "sns.countplot(df[\"RainToday\"], ax=ax[0], palette=\"Blues\");\n",
    "sns.countplot(df[\"RainTomorrow\"], ax=ax[1], palette=\"Blues\");"
   ]
  },
  {
   "cell_type": "code",
   "execution_count": null,
   "id": "1794bdff",
   "metadata": {
    "execution": {
     "iopub.execute_input": "2022-03-16T05:15:23.825436Z",
     "iopub.status.busy": "2022-03-16T05:15:23.824381Z",
     "iopub.status.idle": "2022-03-16T05:15:24.917763Z",
     "shell.execute_reply": "2022-03-16T05:15:24.918275Z",
     "shell.execute_reply.started": "2022-01-31T09:31:03.01081Z"
    },
    "papermill": {
     "duration": 1.180427,
     "end_time": "2022-03-16T05:15:24.918441",
     "exception": false,
     "start_time": "2022-03-16T05:15:23.738014",
     "status": "completed"
    },
    "tags": []
   },
   "outputs": [],
   "source": [
    "plt.style.use(\"seaborn\")\n",
    "fig, ax =plt.subplots(3,1, figsize=(20,20))\n",
    "\n",
    "sns.countplot(df['WindDir9am'], ax=ax[0])\n",
    "ax[0].set_xlabel(\"WindDir9am\",fontsize=15)\n",
    "\n",
    "sns.countplot(df['WindDir3pm'], ax=ax[1])\n",
    "ax[1].set_xlabel(\"WindDir3pm\",fontsize=15)\n",
    "\n",
    "sns.countplot(df['WindGustDir'], ax=ax[2])\n",
    "ax[2].set_xlabel(\"WindGustDir\",fontsize=15);"
   ]
  },
  {
   "cell_type": "markdown",
   "id": "f4c6af6c",
   "metadata": {
    "papermill": {
     "duration": 0.066758,
     "end_time": "2022-03-16T05:15:25.052118",
     "exception": false,
     "start_time": "2022-03-16T05:15:24.985360",
     "status": "completed"
    },
    "tags": []
   },
   "source": [
    "* At 9 AM, The wind direction is mostly `NORTH`\n",
    "* At 3 PM, The wind direction is mostly `SOUTH EAST`"
   ]
  },
  {
   "cell_type": "code",
   "execution_count": null,
   "id": "f9e38b99",
   "metadata": {
    "execution": {
     "iopub.execute_input": "2022-03-16T05:15:25.225831Z",
     "iopub.status.busy": "2022-03-16T05:15:25.217742Z",
     "iopub.status.idle": "2022-03-16T05:15:25.989536Z",
     "shell.execute_reply": "2022-03-16T05:15:25.990016Z",
     "shell.execute_reply.started": "2022-01-31T09:31:03.964809Z"
    },
    "papermill": {
     "duration": 0.871707,
     "end_time": "2022-03-16T05:15:25.990222",
     "exception": false,
     "start_time": "2022-03-16T05:15:25.118515",
     "status": "completed"
    },
    "tags": []
   },
   "outputs": [],
   "source": [
    "plt.style.use(\"seaborn\")\n",
    "fig, ax =plt.subplots(2,1, figsize=(20,20))\n",
    "\n",
    "sns.countplot(df['WindSpeed9am'], ax=ax[0])\n",
    "ax[0].set_xlabel(\"WindSpeed9am\",fontsize=15)\n",
    "\n",
    "sns.countplot(df['WindSpeed3pm'], ax=ax[1])\n",
    "ax[1].set_xlabel(\"WindSpeed3pm\",fontsize=15);"
   ]
  },
  {
   "cell_type": "markdown",
   "id": "2cf9ae94",
   "metadata": {
    "papermill": {
     "duration": 0.068438,
     "end_time": "2022-03-16T05:15:26.126959",
     "exception": false,
     "start_time": "2022-03-16T05:15:26.058521",
     "status": "completed"
    },
    "tags": []
   },
   "source": [
    "* At 9 AM, The wind speed is `13.0`\n",
    "* At 3 PM, The wind speed is `17.0`"
   ]
  },
  {
   "cell_type": "code",
   "execution_count": null,
   "id": "f39f421d",
   "metadata": {
    "execution": {
     "iopub.execute_input": "2022-03-16T05:15:26.276331Z",
     "iopub.status.busy": "2022-03-16T05:15:26.275309Z",
     "iopub.status.idle": "2022-03-16T05:15:27.738694Z",
     "shell.execute_reply": "2022-03-16T05:15:27.739203Z",
     "shell.execute_reply.started": "2022-01-31T09:31:04.670919Z"
    },
    "papermill": {
     "duration": 1.544479,
     "end_time": "2022-03-16T05:15:27.739381",
     "exception": false,
     "start_time": "2022-03-16T05:15:26.194902",
     "status": "completed"
    },
    "tags": []
   },
   "outputs": [],
   "source": [
    "plt.style.use(\"seaborn\")\n",
    "fig, ax =plt.subplots(2,1, figsize=(20,20))\n",
    "\n",
    "sns.histplot(df['Humidity9am'], ax=ax[0], color=\"orange\", bins=40, kde=True)\n",
    "ax[0].set_xlabel(\"Humidity9am\",fontsize=15)\n",
    "\n",
    "sns.histplot(df['Humidity3pm'], ax=ax[1], color=\"orange\", bins=40, kde=True);\n",
    "ax[1].set_xlabel(\"Humidity3pm\",fontsize=15);"
   ]
  },
  {
   "cell_type": "code",
   "execution_count": null,
   "id": "107884de",
   "metadata": {
    "execution": {
     "iopub.execute_input": "2022-03-16T05:15:27.885293Z",
     "iopub.status.busy": "2022-03-16T05:15:27.884703Z",
     "iopub.status.idle": "2022-03-16T05:15:29.246308Z",
     "shell.execute_reply": "2022-03-16T05:15:29.245679Z",
     "shell.execute_reply.started": "2022-01-31T09:31:06.065894Z"
    },
    "papermill": {
     "duration": 1.435961,
     "end_time": "2022-03-16T05:15:29.246444",
     "exception": false,
     "start_time": "2022-03-16T05:15:27.810483",
     "status": "completed"
    },
    "tags": []
   },
   "outputs": [],
   "source": [
    "plt.style.use(\"seaborn\")\n",
    "fig, ax =plt.subplots(2,1, figsize=(20,20))\n",
    "\n",
    "sns.histplot(df['Pressure9am'], ax=ax[0], color=\"r\", bins=40, kde=True)\n",
    "ax[0].set_xlabel(\"Pressure9am\",fontsize=15)\n",
    "\n",
    "sns.histplot(df['Pressure3pm'], ax=ax[1], color=\"r\", bins=40, kde=True)\n",
    "ax[1].set_xlabel(\"Pressure3pm\",fontsize=15);"
   ]
  },
  {
   "cell_type": "code",
   "execution_count": null,
   "id": "36d054a4",
   "metadata": {
    "execution": {
     "iopub.execute_input": "2022-03-16T05:15:29.407924Z",
     "iopub.status.busy": "2022-03-16T05:15:29.407301Z",
     "iopub.status.idle": "2022-03-16T05:15:29.838000Z",
     "shell.execute_reply": "2022-03-16T05:15:29.837505Z",
     "shell.execute_reply.started": "2022-01-31T09:31:07.376968Z"
    },
    "papermill": {
     "duration": 0.517953,
     "end_time": "2022-03-16T05:15:29.838166",
     "exception": false,
     "start_time": "2022-03-16T05:15:29.320213",
     "status": "completed"
    },
    "tags": []
   },
   "outputs": [],
   "source": [
    "plt.style.use(\"seaborn\")\n",
    "fig, ax =plt.subplots(2,1, figsize=(20,20))\n",
    "\n",
    "sns.countplot(df['Cloud9am'], ax=ax[0])\n",
    "ax[0].set_xlabel(\"Cloud9am\",fontsize=15)\n",
    "\n",
    "sns.countplot(df['Cloud3pm'], ax=ax[1])\n",
    "ax[1].set_xlabel(\"Cloud3pm\",fontsize=15);"
   ]
  },
  {
   "cell_type": "code",
   "execution_count": null,
   "id": "2f598340",
   "metadata": {
    "execution": {
     "iopub.execute_input": "2022-03-16T05:15:30.011973Z",
     "iopub.status.busy": "2022-03-16T05:15:30.011316Z",
     "iopub.status.idle": "2022-03-16T05:15:31.333694Z",
     "shell.execute_reply": "2022-03-16T05:15:31.334190Z",
     "shell.execute_reply.started": "2022-01-31T09:31:07.751375Z"
    },
    "papermill": {
     "duration": 1.42043,
     "end_time": "2022-03-16T05:15:31.334365",
     "exception": false,
     "start_time": "2022-03-16T05:15:29.913935",
     "status": "completed"
    },
    "tags": []
   },
   "outputs": [],
   "source": [
    "plt.style.use(\"seaborn\")\n",
    "fig, ax =plt.subplots(2,1, figsize=(20,20))\n",
    "\n",
    "sns.histplot(df['Temp9am'], ax=ax[0], color=\"goldenrod\", bins=40, kde=True)\n",
    "ax[0].set_xlabel(\"Temp9am\",fontsize=15)\n",
    "\n",
    "sns.histplot(df['Temp3pm'], ax=ax[1], color=\"goldenrod\", bins=40, kde=True)\n",
    "ax[1].set_xlabel(\"Temp3pm\",fontsize=15);"
   ]
  },
  {
   "cell_type": "code",
   "execution_count": null,
   "id": "430ce798",
   "metadata": {
    "execution": {
     "iopub.execute_input": "2022-03-16T05:15:31.494466Z",
     "iopub.status.busy": "2022-03-16T05:15:31.493823Z",
     "iopub.status.idle": "2022-03-16T05:15:33.206473Z",
     "shell.execute_reply": "2022-03-16T05:15:33.206968Z",
     "shell.execute_reply.started": "2022-01-31T09:31:09.032212Z"
    },
    "papermill": {
     "duration": 1.793862,
     "end_time": "2022-03-16T05:15:33.207153",
     "exception": false,
     "start_time": "2022-03-16T05:15:31.413291",
     "status": "completed"
    },
    "tags": []
   },
   "outputs": [],
   "source": [
    "plt.style.use(\"seaborn\")\n",
    "fig, ax =plt.subplots(2,2, figsize=(15,15)) \n",
    "\n",
    "sns.scatterplot(x = data['Sunshine'], y = data['Rainfall'], ax=ax[0,0], color=\"orange\");\n",
    "ax[0,0].set_title(\"Sunshine vs Rainfall\",fontsize=15);\n",
    "\n",
    "sns.scatterplot(x = data['Evaporation'], y = data['Rainfall'], ax=ax[0,1], color=\"red\");\n",
    "ax[0,1].set_title(\"Evaporation vs Rainfall\",fontsize=15);\n",
    "\n",
    "sns.scatterplot(x = data['MaxTemp'], y = data['Rainfall'], ax=ax[1,0], color=\"seagreen\");\n",
    "ax[1,0].set_title(\"MaxTemp vs Rainfall\",fontsize=15);\n",
    "\n",
    "sns.scatterplot(x = data['MinTemp'], y = data['Rainfall'], ax=ax[1,1], color=\"navy\");\n",
    "ax[1,1].set_title(\"MinTemp vs Rainfall\",fontsize=15);"
   ]
  },
  {
   "cell_type": "code",
   "execution_count": null,
   "id": "d846dfa5",
   "metadata": {
    "execution": {
     "iopub.execute_input": "2022-03-16T05:15:33.388818Z",
     "iopub.status.busy": "2022-03-16T05:15:33.388154Z",
     "iopub.status.idle": "2022-03-16T05:15:33.391618Z",
     "shell.execute_reply": "2022-03-16T05:15:33.392153Z",
     "shell.execute_reply.started": "2022-01-31T09:31:10.73877Z"
    },
    "papermill": {
     "duration": 0.098105,
     "end_time": "2022-03-16T05:15:33.392318",
     "exception": false,
     "start_time": "2022-03-16T05:15:33.294213",
     "status": "completed"
    },
    "tags": []
   },
   "outputs": [],
   "source": [
    "df.dtypes"
   ]
  },
  {
   "cell_type": "markdown",
   "id": "21145bc9",
   "metadata": {
    "papermill": {
     "duration": 0.086174,
     "end_time": "2022-03-16T05:15:33.567711",
     "exception": false,
     "start_time": "2022-03-16T05:15:33.481537",
     "status": "completed"
    },
    "tags": []
   },
   "source": [
    "## <span style=\"color:#00843D;\">Label Encoding</span>"
   ]
  },
  {
   "cell_type": "code",
   "execution_count": null,
   "id": "ea210f68",
   "metadata": {
    "execution": {
     "iopub.execute_input": "2022-03-16T05:15:33.743435Z",
     "iopub.status.busy": "2022-03-16T05:15:33.742795Z",
     "iopub.status.idle": "2022-03-16T05:15:33.929423Z",
     "shell.execute_reply": "2022-03-16T05:15:33.929916Z",
     "shell.execute_reply.started": "2022-01-31T09:31:10.75046Z"
    },
    "papermill": {
     "duration": 0.275675,
     "end_time": "2022-03-16T05:15:33.930117",
     "exception": false,
     "start_time": "2022-03-16T05:15:33.654442",
     "status": "completed"
    },
    "tags": []
   },
   "outputs": [],
   "source": [
    "from sklearn import preprocessing\n",
    "\n",
    "le = preprocessing.LabelEncoder()\n",
    "df['Location'] = le.fit_transform(df['Location'])\n",
    "df['WindDir9am'] = le.fit_transform(df['WindDir9am'])\n",
    "df['WindDir3pm'] = le.fit_transform(df['WindDir3pm'])\n",
    "df['WindGustDir'] = le.fit_transform(df['WindGustDir'])\n",
    "df['WindGustDir'] = le.fit_transform(df['RainTomorrow'])\n",
    "df['WindGustDir'] = le.fit_transform(df['RainToday'])"
   ]
  },
  {
   "cell_type": "code",
   "execution_count": null,
   "id": "588098d7",
   "metadata": {
    "execution": {
     "iopub.execute_input": "2022-03-16T05:15:34.107167Z",
     "iopub.status.busy": "2022-03-16T05:15:34.106514Z",
     "iopub.status.idle": "2022-03-16T05:15:34.116811Z",
     "shell.execute_reply": "2022-03-16T05:15:34.117280Z",
     "shell.execute_reply.started": "2022-01-31T09:31:10.911506Z"
    },
    "papermill": {
     "duration": 0.100106,
     "end_time": "2022-03-16T05:15:34.117452",
     "exception": false,
     "start_time": "2022-03-16T05:15:34.017346",
     "status": "completed"
    },
    "tags": []
   },
   "outputs": [],
   "source": [
    "df.drop(\"Date\", axis=1, inplace=True)"
   ]
  },
  {
   "cell_type": "code",
   "execution_count": null,
   "id": "157c04f5",
   "metadata": {
    "execution": {
     "iopub.execute_input": "2022-03-16T05:15:34.294560Z",
     "iopub.status.busy": "2022-03-16T05:15:34.293935Z",
     "iopub.status.idle": "2022-03-16T05:15:34.300469Z",
     "shell.execute_reply": "2022-03-16T05:15:34.301082Z",
     "shell.execute_reply.started": "2022-01-31T09:31:10.924182Z"
    },
    "papermill": {
     "duration": 0.096399,
     "end_time": "2022-03-16T05:15:34.301243",
     "exception": false,
     "start_time": "2022-03-16T05:15:34.204844",
     "status": "completed"
    },
    "tags": []
   },
   "outputs": [],
   "source": [
    "# Having a look at the data types after the numerical transformation\n",
    "df.dtypes"
   ]
  },
  {
   "cell_type": "code",
   "execution_count": null,
   "id": "4de6cc49",
   "metadata": {
    "execution": {
     "iopub.execute_input": "2022-03-16T05:15:34.477783Z",
     "iopub.status.busy": "2022-03-16T05:15:34.477185Z",
     "iopub.status.idle": "2022-03-16T05:15:35.244023Z",
     "shell.execute_reply": "2022-03-16T05:15:35.243425Z",
     "shell.execute_reply.started": "2022-01-31T09:40:36.587736Z"
    },
    "papermill": {
     "duration": 0.856238,
     "end_time": "2022-03-16T05:15:35.244173",
     "exception": false,
     "start_time": "2022-03-16T05:15:34.387935",
     "status": "completed"
    },
    "tags": []
   },
   "outputs": [],
   "source": [
    "plt.figure(figsize=(20,10))\n",
    "sns.boxenplot(data = data)\n",
    "plt.xticks(rotation=90)\n",
    "plt.show()"
   ]
  },
  {
   "cell_type": "markdown",
   "id": "c3ac219a",
   "metadata": {
    "papermill": {
     "duration": 0.088644,
     "end_time": "2022-03-16T05:15:35.421947",
     "exception": false,
     "start_time": "2022-03-16T05:15:35.333303",
     "status": "completed"
    },
    "tags": []
   },
   "source": [
    "# <span style=\"color:#00843D;\"> Splitting the data into training and test datasets </span>\n",
    "Here, we are trying to predict whether it is going to Rain tomorrow or not in Australia using the given data. Hence, the `RainTomorrow` will be the y label and rest of the data will be the X or the input data."
   ]
  },
  {
   "cell_type": "code",
   "execution_count": null,
   "id": "e878c0ba",
   "metadata": {
    "execution": {
     "iopub.execute_input": "2022-03-16T05:15:35.610652Z",
     "iopub.status.busy": "2022-03-16T05:15:35.609973Z",
     "iopub.status.idle": "2022-03-16T05:15:35.612843Z",
     "shell.execute_reply": "2022-03-16T05:15:35.612361Z",
     "shell.execute_reply.started": "2022-01-31T09:31:11.646184Z"
    },
    "papermill": {
     "duration": 0.101288,
     "end_time": "2022-03-16T05:15:35.612980",
     "exception": false,
     "start_time": "2022-03-16T05:15:35.511692",
     "status": "completed"
    },
    "tags": []
   },
   "outputs": [],
   "source": [
    "# X data\n",
    "X = df.drop(\"RainTomorrow\", axis=1)"
   ]
  },
  {
   "cell_type": "code",
   "execution_count": null,
   "id": "97d93ce3",
   "metadata": {
    "execution": {
     "iopub.execute_input": "2022-03-16T05:15:35.822141Z",
     "iopub.status.busy": "2022-03-16T05:15:35.821454Z",
     "iopub.status.idle": "2022-03-16T05:15:35.824566Z",
     "shell.execute_reply": "2022-03-16T05:15:35.825168Z",
     "shell.execute_reply.started": "2022-01-31T09:31:11.655418Z"
    },
    "papermill": {
     "duration": 0.123874,
     "end_time": "2022-03-16T05:15:35.825342",
     "exception": false,
     "start_time": "2022-03-16T05:15:35.701468",
     "status": "completed"
    },
    "tags": []
   },
   "outputs": [],
   "source": [
    "X.head()"
   ]
  },
  {
   "cell_type": "code",
   "execution_count": null,
   "id": "6991eec1",
   "metadata": {
    "execution": {
     "iopub.execute_input": "2022-03-16T05:15:36.008481Z",
     "iopub.status.busy": "2022-03-16T05:15:36.007851Z",
     "iopub.status.idle": "2022-03-16T05:15:36.013769Z",
     "shell.execute_reply": "2022-03-16T05:15:36.014351Z",
     "shell.execute_reply.started": "2022-01-31T09:31:11.692993Z"
    },
    "papermill": {
     "duration": 0.098977,
     "end_time": "2022-03-16T05:15:36.014514",
     "exception": false,
     "start_time": "2022-03-16T05:15:35.915537",
     "status": "completed"
    },
    "tags": []
   },
   "outputs": [],
   "source": [
    "# y data\n",
    "y = df[\"RainTomorrow\"]\n",
    "y.head()"
   ]
  },
  {
   "cell_type": "code",
   "execution_count": null,
   "id": "942ce665",
   "metadata": {
    "execution": {
     "iopub.execute_input": "2022-03-16T05:15:36.198903Z",
     "iopub.status.busy": "2022-03-16T05:15:36.198303Z",
     "iopub.status.idle": "2022-03-16T05:15:36.263592Z",
     "shell.execute_reply": "2022-03-16T05:15:36.262917Z",
     "shell.execute_reply.started": "2022-01-31T09:31:11.701279Z"
    },
    "papermill": {
     "duration": 0.157571,
     "end_time": "2022-03-16T05:15:36.263750",
     "exception": false,
     "start_time": "2022-03-16T05:15:36.106179",
     "status": "completed"
    },
    "tags": []
   },
   "outputs": [],
   "source": [
    "# Splitting the data into X train, X test and y train, y test\n",
    "\n",
    "from sklearn.model_selection import train_test_split\n",
    "X_train, X_test, y_train, y_test = train_test_split(X, y, test_size=0.2, random_state=42)"
   ]
  },
  {
   "cell_type": "code",
   "execution_count": null,
   "id": "12a309f2",
   "metadata": {
    "execution": {
     "iopub.execute_input": "2022-03-16T05:15:36.449046Z",
     "iopub.status.busy": "2022-03-16T05:15:36.448423Z",
     "iopub.status.idle": "2022-03-16T05:15:36.451768Z",
     "shell.execute_reply": "2022-03-16T05:15:36.451285Z",
     "shell.execute_reply.started": "2022-01-31T09:31:11.794963Z"
    },
    "papermill": {
     "duration": 0.097729,
     "end_time": "2022-03-16T05:15:36.451897",
     "exception": false,
     "start_time": "2022-03-16T05:15:36.354168",
     "status": "completed"
    },
    "tags": []
   },
   "outputs": [],
   "source": [
    "len(X_train), len(X_test)"
   ]
  },
  {
   "cell_type": "code",
   "execution_count": null,
   "id": "5b3129a4",
   "metadata": {
    "execution": {
     "iopub.execute_input": "2022-03-16T05:15:36.637107Z",
     "iopub.status.busy": "2022-03-16T05:15:36.636435Z",
     "iopub.status.idle": "2022-03-16T05:15:36.669909Z",
     "shell.execute_reply": "2022-03-16T05:15:36.670482Z",
     "shell.execute_reply.started": "2022-01-31T09:31:11.803569Z"
    },
    "papermill": {
     "duration": 0.129127,
     "end_time": "2022-03-16T05:15:36.670677",
     "exception": false,
     "start_time": "2022-03-16T05:15:36.541550",
     "status": "completed"
    },
    "tags": []
   },
   "outputs": [],
   "source": [
    "# Scaling the data \n",
    "\n",
    "from sklearn.preprocessing import StandardScaler\n",
    "scaler = StandardScaler()\n",
    "X_train = scaler.fit_transform(X_train)\n",
    "X_test = scaler.transform(X_test)"
   ]
  },
  {
   "cell_type": "code",
   "execution_count": null,
   "id": "61d5ebbd",
   "metadata": {
    "execution": {
     "iopub.execute_input": "2022-03-16T05:15:36.855362Z",
     "iopub.status.busy": "2022-03-16T05:15:36.854730Z",
     "iopub.status.idle": "2022-03-16T05:15:37.554664Z",
     "shell.execute_reply": "2022-03-16T05:15:37.555248Z",
     "shell.execute_reply.started": "2022-01-31T09:31:11.851082Z"
    },
    "papermill": {
     "duration": 0.794039,
     "end_time": "2022-03-16T05:15:37.555414",
     "exception": false,
     "start_time": "2022-03-16T05:15:36.761375",
     "status": "completed"
    },
    "tags": []
   },
   "outputs": [],
   "source": [
    "plt.figure(figsize=(20,10))\n",
    "plt.title(\"Data after Scaling\", fontsize=25, y=1.02)\n",
    "sns.boxenplot(data = X_train)\n",
    "plt.show()"
   ]
  },
  {
   "cell_type": "markdown",
   "id": "710969eb",
   "metadata": {
    "papermill": {
     "duration": 0.089897,
     "end_time": "2022-03-16T05:15:37.736873",
     "exception": false,
     "start_time": "2022-03-16T05:15:37.646976",
     "status": "completed"
    },
    "tags": []
   },
   "source": [
    "# <p style=\"background-color:#00843D;font-family:inter;color:#FFCD00;font-size:150%;text-align:center;border-radius:10px 10px;\">Training Model</p>"
   ]
  },
  {
   "cell_type": "markdown",
   "id": "00018e86",
   "metadata": {
    "papermill": {
     "duration": 0.09265,
     "end_time": "2022-03-16T05:15:37.921511",
     "exception": false,
     "start_time": "2022-03-16T05:15:37.828861",
     "status": "completed"
    },
    "tags": []
   },
   "source": [
    "## <span style=\"color:#00843D;\">Logistic Regression</span>"
   ]
  },
  {
   "cell_type": "code",
   "execution_count": null,
   "id": "abb2cb58",
   "metadata": {
    "execution": {
     "iopub.execute_input": "2022-03-16T05:15:38.110219Z",
     "iopub.status.busy": "2022-03-16T05:15:38.109521Z",
     "iopub.status.idle": "2022-03-16T05:15:38.188187Z",
     "shell.execute_reply": "2022-03-16T05:15:38.187585Z",
     "shell.execute_reply.started": "2022-01-31T09:46:23.208699Z"
    },
    "papermill": {
     "duration": 0.17443,
     "end_time": "2022-03-16T05:15:38.188345",
     "exception": false,
     "start_time": "2022-03-16T05:15:38.013915",
     "status": "completed"
    },
    "tags": []
   },
   "outputs": [],
   "source": [
    "from sklearn.linear_model import LogisticRegression\n",
    "lr = LogisticRegression()"
   ]
  },
  {
   "cell_type": "code",
   "execution_count": null,
   "id": "b3b59ede",
   "metadata": {
    "execution": {
     "iopub.execute_input": "2022-03-16T05:15:38.379948Z",
     "iopub.status.busy": "2022-03-16T05:15:38.379172Z",
     "iopub.status.idle": "2022-03-16T05:15:38.936096Z",
     "shell.execute_reply": "2022-03-16T05:15:38.937086Z",
     "shell.execute_reply.started": "2022-01-31T09:46:24.184233Z"
    },
    "papermill": {
     "duration": 0.65523,
     "end_time": "2022-03-16T05:15:38.937347",
     "exception": false,
     "start_time": "2022-03-16T05:15:38.282117",
     "status": "completed"
    },
    "tags": []
   },
   "outputs": [],
   "source": [
    "lr.fit(X_train, y_train)"
   ]
  },
  {
   "cell_type": "code",
   "execution_count": null,
   "id": "dbfe38ec",
   "metadata": {
    "execution": {
     "iopub.execute_input": "2022-03-16T05:15:39.189278Z",
     "iopub.status.busy": "2022-03-16T05:15:39.188230Z",
     "iopub.status.idle": "2022-03-16T05:15:39.199497Z",
     "shell.execute_reply": "2022-03-16T05:15:39.201076Z",
     "shell.execute_reply.started": "2022-01-31T09:46:41.514399Z"
    },
    "papermill": {
     "duration": 0.110299,
     "end_time": "2022-03-16T05:15:39.201396",
     "exception": false,
     "start_time": "2022-03-16T05:15:39.091097",
     "status": "completed"
    },
    "tags": []
   },
   "outputs": [],
   "source": [
    "LogisticRegressionScore = lr.score(X_test,y_test)\n",
    "print(\"Accuracy obtained by Logistic Regression model:\",LogisticRegressionScore*100)"
   ]
  },
  {
   "cell_type": "code",
   "execution_count": null,
   "id": "4c91713c",
   "metadata": {
    "execution": {
     "iopub.execute_input": "2022-03-16T05:15:39.441518Z",
     "iopub.status.busy": "2022-03-16T05:15:39.440383Z",
     "iopub.status.idle": "2022-03-16T05:15:39.493221Z",
     "shell.execute_reply": "2022-03-16T05:15:39.492059Z",
     "shell.execute_reply.started": "2022-01-31T09:47:56.119223Z"
    },
    "papermill": {
     "duration": 0.150501,
     "end_time": "2022-03-16T05:15:39.493448",
     "exception": false,
     "start_time": "2022-03-16T05:15:39.342947",
     "status": "completed"
    },
    "tags": []
   },
   "outputs": [],
   "source": [
    "from sklearn import metrics\n",
    "y_pred_lr = lr.predict(X_test)\n",
    "print(metrics.classification_report(y_test, y_pred_lr))"
   ]
  },
  {
   "cell_type": "markdown",
   "id": "f2c2dc5e",
   "metadata": {
    "papermill": {
     "duration": 0.093481,
     "end_time": "2022-03-16T05:15:39.713111",
     "exception": false,
     "start_time": "2022-03-16T05:15:39.619630",
     "status": "completed"
    },
    "tags": []
   },
   "source": [
    "## <span style=\"color:#00843D;\">Random Forest Classifier</span>"
   ]
  },
  {
   "cell_type": "code",
   "execution_count": null,
   "id": "b506c43c",
   "metadata": {
    "execution": {
     "iopub.execute_input": "2022-03-16T05:15:39.903642Z",
     "iopub.status.busy": "2022-03-16T05:15:39.903007Z",
     "iopub.status.idle": "2022-03-16T05:15:49.604244Z",
     "shell.execute_reply": "2022-03-16T05:15:49.604755Z",
     "shell.execute_reply.started": "2022-01-31T09:47:25.505175Z"
    },
    "papermill": {
     "duration": 9.798795,
     "end_time": "2022-03-16T05:15:49.604944",
     "exception": false,
     "start_time": "2022-03-16T05:15:39.806149",
     "status": "completed"
    },
    "tags": []
   },
   "outputs": [],
   "source": [
    "from sklearn.ensemble import RandomForestClassifier\n",
    "rf = RandomForestClassifier(n_estimators = 100, random_state = 0)\n",
    "rf.fit(X_train,y_train)"
   ]
  },
  {
   "cell_type": "code",
   "execution_count": null,
   "id": "d7a6cd19",
   "metadata": {
    "execution": {
     "iopub.execute_input": "2022-03-16T05:15:49.795197Z",
     "iopub.status.busy": "2022-03-16T05:15:49.794574Z",
     "iopub.status.idle": "2022-03-16T05:15:50.059517Z",
     "shell.execute_reply": "2022-03-16T05:15:50.060092Z",
     "shell.execute_reply.started": "2022-01-31T09:47:35.247686Z"
    },
    "papermill": {
     "duration": 0.360889,
     "end_time": "2022-03-16T05:15:50.060267",
     "exception": false,
     "start_time": "2022-03-16T05:15:49.699378",
     "status": "completed"
    },
    "tags": []
   },
   "outputs": [],
   "source": [
    "RandomForestClassifierScore = rf.score(X_test,y_test)\n",
    "print(\"Accuracy obtained by Random Forest Classifier model:\",RandomForestClassifierScore*100)"
   ]
  },
  {
   "cell_type": "code",
   "execution_count": null,
   "id": "98317de2",
   "metadata": {
    "execution": {
     "iopub.execute_input": "2022-03-16T05:15:50.251241Z",
     "iopub.status.busy": "2022-03-16T05:15:50.250493Z",
     "iopub.status.idle": "2022-03-16T05:15:50.531659Z",
     "shell.execute_reply": "2022-03-16T05:15:50.531022Z",
     "shell.execute_reply.started": "2022-01-31T09:47:35.515741Z"
    },
    "papermill": {
     "duration": 0.377598,
     "end_time": "2022-03-16T05:15:50.531801",
     "exception": false,
     "start_time": "2022-03-16T05:15:50.154203",
     "status": "completed"
    },
    "tags": []
   },
   "outputs": [],
   "source": [
    "y_pred_rf = rf.predict(X_test)\n",
    "print(metrics.classification_report(y_test, y_pred_rf))"
   ]
  },
  {
   "cell_type": "markdown",
   "id": "a11d77ba",
   "metadata": {
    "papermill": {
     "duration": 0.092535,
     "end_time": "2022-03-16T05:15:50.718304",
     "exception": false,
     "start_time": "2022-03-16T05:15:50.625769",
     "status": "completed"
    },
    "tags": []
   },
   "source": [
    "## <span style=\"color:#00843D;\">KNeighbors Classifier</span>"
   ]
  },
  {
   "cell_type": "code",
   "execution_count": null,
   "id": "0b72450d",
   "metadata": {
    "execution": {
     "iopub.execute_input": "2022-03-16T05:15:50.910481Z",
     "iopub.status.busy": "2022-03-16T05:15:50.909521Z",
     "iopub.status.idle": "2022-03-16T05:15:52.559220Z",
     "shell.execute_reply": "2022-03-16T05:15:52.558553Z",
     "shell.execute_reply.started": "2022-01-31T09:48:18.788738Z"
    },
    "papermill": {
     "duration": 1.748461,
     "end_time": "2022-03-16T05:15:52.559382",
     "exception": false,
     "start_time": "2022-03-16T05:15:50.810921",
     "status": "completed"
    },
    "tags": []
   },
   "outputs": [],
   "source": [
    "from sklearn.neighbors import KNeighborsClassifier\n",
    "knn = KNeighborsClassifier(4)\n",
    "knn.fit(X_train,y_train)"
   ]
  },
  {
   "cell_type": "code",
   "execution_count": null,
   "id": "9c031e0e",
   "metadata": {
    "execution": {
     "iopub.execute_input": "2022-03-16T05:15:52.753198Z",
     "iopub.status.busy": "2022-03-16T05:15:52.751708Z",
     "iopub.status.idle": "2022-03-16T05:16:02.352534Z",
     "shell.execute_reply": "2022-03-16T05:16:02.351878Z",
     "shell.execute_reply.started": "2022-01-31T09:48:32.538296Z"
    },
    "papermill": {
     "duration": 9.700267,
     "end_time": "2022-03-16T05:16:02.352761",
     "exception": false,
     "start_time": "2022-03-16T05:15:52.652494",
     "status": "completed"
    },
    "tags": []
   },
   "outputs": [],
   "source": [
    "KNeighborsClassifierScore = knn.score(X_test,y_test)\n",
    "print(\"Accuracy obtained by KNeighbors Classifier model:\", KNeighborsClassifierScore*100)"
   ]
  },
  {
   "cell_type": "code",
   "execution_count": null,
   "id": "f17366b8",
   "metadata": {
    "execution": {
     "iopub.execute_input": "2022-03-16T05:16:02.546993Z",
     "iopub.status.busy": "2022-03-16T05:16:02.546366Z",
     "iopub.status.idle": "2022-03-16T05:16:12.205232Z",
     "shell.execute_reply": "2022-03-16T05:16:12.204584Z",
     "shell.execute_reply.started": "2022-01-31T09:49:33.638231Z"
    },
    "papermill": {
     "duration": 9.756907,
     "end_time": "2022-03-16T05:16:12.205402",
     "exception": false,
     "start_time": "2022-03-16T05:16:02.448495",
     "status": "completed"
    },
    "tags": []
   },
   "outputs": [],
   "source": [
    "y_pred_knn = knn.predict(X_test)\n",
    "print(metrics.classification_report(y_test, y_pred_knn))"
   ]
  },
  {
   "cell_type": "markdown",
   "id": "7d7b5078",
   "metadata": {
    "papermill": {
     "duration": 0.096358,
     "end_time": "2022-03-16T05:16:12.397316",
     "exception": false,
     "start_time": "2022-03-16T05:16:12.300958",
     "status": "completed"
    },
    "tags": []
   },
   "source": [
    "## <span style=\"color:#00843D;\">CatBoost Classifier</span>"
   ]
  },
  {
   "cell_type": "code",
   "execution_count": null,
   "id": "82b1b5c4",
   "metadata": {
    "execution": {
     "iopub.execute_input": "2022-03-16T05:16:12.592314Z",
     "iopub.status.busy": "2022-03-16T05:16:12.591610Z",
     "iopub.status.idle": "2022-03-16T05:16:13.054716Z",
     "shell.execute_reply": "2022-03-16T05:16:13.054154Z",
     "shell.execute_reply.started": "2022-01-31T09:49:43.209398Z"
    },
    "papermill": {
     "duration": 0.561483,
     "end_time": "2022-03-16T05:16:13.054865",
     "exception": false,
     "start_time": "2022-03-16T05:16:12.493382",
     "status": "completed"
    },
    "tags": []
   },
   "outputs": [],
   "source": [
    "from catboost import CatBoostClassifier\n",
    "cat = CatBoostClassifier(iterations=10)\n",
    "cat.fit(X_train, y_train);"
   ]
  },
  {
   "cell_type": "code",
   "execution_count": null,
   "id": "a192de25",
   "metadata": {
    "execution": {
     "iopub.execute_input": "2022-03-16T05:16:13.251661Z",
     "iopub.status.busy": "2022-03-16T05:16:13.250811Z",
     "iopub.status.idle": "2022-03-16T05:16:13.263795Z",
     "shell.execute_reply": "2022-03-16T05:16:13.263136Z",
     "shell.execute_reply.started": "2022-01-31T09:49:43.428031Z"
    },
    "papermill": {
     "duration": 0.113431,
     "end_time": "2022-03-16T05:16:13.263963",
     "exception": false,
     "start_time": "2022-03-16T05:16:13.150532",
     "status": "completed"
    },
    "tags": []
   },
   "outputs": [],
   "source": [
    "CatBoostClassifierScore = cat.score(X_test,y_test)\n",
    "print(\"Accuracy obtained by CatBoost Classifier model:\",CatBoostClassifierScore*100)"
   ]
  },
  {
   "cell_type": "code",
   "execution_count": null,
   "id": "a0bd7a1a",
   "metadata": {
    "execution": {
     "iopub.execute_input": "2022-03-16T05:16:13.464126Z",
     "iopub.status.busy": "2022-03-16T05:16:13.463076Z",
     "iopub.status.idle": "2022-03-16T05:16:13.495414Z",
     "shell.execute_reply": "2022-03-16T05:16:13.495866Z",
     "shell.execute_reply.started": "2022-01-31T09:50:00.093007Z"
    },
    "papermill": {
     "duration": 0.136162,
     "end_time": "2022-03-16T05:16:13.496037",
     "exception": false,
     "start_time": "2022-03-16T05:16:13.359875",
     "status": "completed"
    },
    "tags": []
   },
   "outputs": [],
   "source": [
    "y_pred_cat = cat.predict(X_test)\n",
    "print(metrics.classification_report(y_test, y_pred_cat))"
   ]
  },
  {
   "cell_type": "markdown",
   "id": "f04e7759",
   "metadata": {
    "papermill": {
     "duration": 0.113588,
     "end_time": "2022-03-16T05:16:13.705925",
     "exception": false,
     "start_time": "2022-03-16T05:16:13.592337",
     "status": "completed"
    },
    "tags": []
   },
   "source": [
    "## <span style=\"color:#00843D;\">Gradient Boosting Classifier</span>"
   ]
  },
  {
   "cell_type": "code",
   "execution_count": null,
   "id": "a6752271",
   "metadata": {
    "execution": {
     "iopub.execute_input": "2022-03-16T05:16:13.905166Z",
     "iopub.status.busy": "2022-03-16T05:16:13.903963Z",
     "iopub.status.idle": "2022-03-16T05:16:26.884632Z",
     "shell.execute_reply": "2022-03-16T05:16:26.884103Z",
     "shell.execute_reply.started": "2022-01-31T09:50:24.297675Z"
    },
    "papermill": {
     "duration": 13.082292,
     "end_time": "2022-03-16T05:16:26.884790",
     "exception": false,
     "start_time": "2022-03-16T05:16:13.802498",
     "status": "completed"
    },
    "tags": []
   },
   "outputs": [],
   "source": [
    "from sklearn.ensemble import GradientBoostingClassifier\n",
    "gb = GradientBoostingClassifier()\n",
    "gb.fit(X_train, y_train)"
   ]
  },
  {
   "cell_type": "code",
   "execution_count": null,
   "id": "49d51714",
   "metadata": {
    "execution": {
     "iopub.execute_input": "2022-03-16T05:16:27.080424Z",
     "iopub.status.busy": "2022-03-16T05:16:27.079706Z",
     "iopub.status.idle": "2022-03-16T05:16:27.111800Z",
     "shell.execute_reply": "2022-03-16T05:16:27.111287Z",
     "shell.execute_reply.started": "2022-01-31T09:50:37.325292Z"
    },
    "papermill": {
     "duration": 0.130612,
     "end_time": "2022-03-16T05:16:27.111944",
     "exception": false,
     "start_time": "2022-03-16T05:16:26.981332",
     "status": "completed"
    },
    "tags": []
   },
   "outputs": [],
   "source": [
    "GradientBoostingClassifierScore = gb.score(X_test,y_test)\n",
    "print(\"Accuracy obtained by Gradient Boosting Classifier model:\",GradientBoostingClassifierScore*100)"
   ]
  },
  {
   "cell_type": "code",
   "execution_count": null,
   "id": "847057ae",
   "metadata": {
    "execution": {
     "iopub.execute_input": "2022-03-16T05:16:27.311247Z",
     "iopub.status.busy": "2022-03-16T05:16:27.310588Z",
     "iopub.status.idle": "2022-03-16T05:16:27.361713Z",
     "shell.execute_reply": "2022-03-16T05:16:27.361161Z",
     "shell.execute_reply.started": "2022-01-31T09:50:37.35954Z"
    },
    "papermill": {
     "duration": 0.152449,
     "end_time": "2022-03-16T05:16:27.361865",
     "exception": false,
     "start_time": "2022-03-16T05:16:27.209416",
     "status": "completed"
    },
    "tags": []
   },
   "outputs": [],
   "source": [
    "y_pred_gb = gb.predict(X_test)\n",
    "print(metrics.classification_report(y_test, y_pred_gb))"
   ]
  },
  {
   "cell_type": "markdown",
   "id": "e0e078e2",
   "metadata": {
    "papermill": {
     "duration": 0.096278,
     "end_time": "2022-03-16T05:16:27.555975",
     "exception": false,
     "start_time": "2022-03-16T05:16:27.459697",
     "status": "completed"
    },
    "tags": []
   },
   "source": [
    "## <span style=\"color:#00843D;\">Stochastic Gradient Boosting</span>"
   ]
  },
  {
   "cell_type": "code",
   "execution_count": null,
   "id": "bca96d0c",
   "metadata": {
    "execution": {
     "iopub.execute_input": "2022-03-16T05:16:27.754238Z",
     "iopub.status.busy": "2022-03-16T05:16:27.753518Z",
     "iopub.status.idle": "2022-03-16T05:16:36.130048Z",
     "shell.execute_reply": "2022-03-16T05:16:36.129539Z",
     "shell.execute_reply.started": "2022-01-31T09:51:16.055909Z"
    },
    "papermill": {
     "duration": 8.476553,
     "end_time": "2022-03-16T05:16:36.130196",
     "exception": false,
     "start_time": "2022-03-16T05:16:27.653643",
     "status": "completed"
    },
    "tags": []
   },
   "outputs": [],
   "source": [
    "sgb = GradientBoostingClassifier(subsample = 0.90, max_features = 0.70)\n",
    "sgb.fit(X_train, y_train)"
   ]
  },
  {
   "cell_type": "code",
   "execution_count": null,
   "id": "5cb5a074",
   "metadata": {
    "execution": {
     "iopub.execute_input": "2022-03-16T05:16:36.329272Z",
     "iopub.status.busy": "2022-03-16T05:16:36.328662Z",
     "iopub.status.idle": "2022-03-16T05:16:36.360377Z",
     "shell.execute_reply": "2022-03-16T05:16:36.360875Z",
     "shell.execute_reply.started": "2022-01-31T09:51:24.439022Z"
    },
    "papermill": {
     "duration": 0.132525,
     "end_time": "2022-03-16T05:16:36.361042",
     "exception": false,
     "start_time": "2022-03-16T05:16:36.228517",
     "status": "completed"
    },
    "tags": []
   },
   "outputs": [],
   "source": [
    "StochasticGradientBoostingScore = sgb.score(X_test,y_test)\n",
    "print(\"Accuracy obtained by Stochastic Gradient Boosting model:\", StochasticGradientBoostingScore*100)"
   ]
  },
  {
   "cell_type": "code",
   "execution_count": null,
   "id": "bcaeba27",
   "metadata": {
    "execution": {
     "iopub.execute_input": "2022-03-16T05:16:36.586460Z",
     "iopub.status.busy": "2022-03-16T05:16:36.585793Z",
     "iopub.status.idle": "2022-03-16T05:16:36.615022Z",
     "shell.execute_reply": "2022-03-16T05:16:36.614495Z",
     "shell.execute_reply.started": "2022-01-31T09:51:24.472049Z"
    },
    "papermill": {
     "duration": 0.155773,
     "end_time": "2022-03-16T05:16:36.615195",
     "exception": false,
     "start_time": "2022-03-16T05:16:36.459422",
     "status": "completed"
    },
    "tags": []
   },
   "outputs": [],
   "source": [
    "y_pred_sgb = sgb.predict(X_test)\n",
    "print(metrics.classification_report(y_test, y_pred_sgb))"
   ]
  },
  {
   "cell_type": "markdown",
   "id": "7719274f",
   "metadata": {
    "papermill": {
     "duration": 0.099023,
     "end_time": "2022-03-16T05:16:36.814650",
     "exception": false,
     "start_time": "2022-03-16T05:16:36.715627",
     "status": "completed"
    },
    "tags": []
   },
   "source": [
    "## <span style=\"color:#00843D;\">XGB Classifier</span>"
   ]
  },
  {
   "cell_type": "code",
   "execution_count": null,
   "id": "eafde9dd",
   "metadata": {
    "execution": {
     "iopub.execute_input": "2022-03-16T05:16:37.019371Z",
     "iopub.status.busy": "2022-03-16T05:16:37.018643Z",
     "iopub.status.idle": "2022-03-16T05:16:40.860531Z",
     "shell.execute_reply": "2022-03-16T05:16:40.861049Z",
     "shell.execute_reply.started": "2022-01-31T09:52:44.800496Z"
    },
    "papermill": {
     "duration": 3.946818,
     "end_time": "2022-03-16T05:16:40.861260",
     "exception": false,
     "start_time": "2022-03-16T05:16:36.914442",
     "status": "completed"
    },
    "tags": []
   },
   "outputs": [],
   "source": [
    "from xgboost import XGBClassifier\n",
    "\n",
    "xgb = XGBClassifier(booster = 'gbtree', learning_rate = 0.1, max_depth = 5, n_estimators = 180)\n",
    "xgb.fit(X_train, y_train);"
   ]
  },
  {
   "cell_type": "code",
   "execution_count": null,
   "id": "38cd339b",
   "metadata": {
    "execution": {
     "iopub.execute_input": "2022-03-16T05:16:41.062022Z",
     "iopub.status.busy": "2022-03-16T05:16:41.061389Z",
     "iopub.status.idle": "2022-03-16T05:16:41.087933Z",
     "shell.execute_reply": "2022-03-16T05:16:41.088558Z",
     "shell.execute_reply.started": "2022-01-31T09:52:48.569596Z"
    },
    "papermill": {
     "duration": 0.128601,
     "end_time": "2022-03-16T05:16:41.088758",
     "exception": false,
     "start_time": "2022-03-16T05:16:40.960157",
     "status": "completed"
    },
    "tags": []
   },
   "outputs": [],
   "source": [
    "XGBClassifierScore = xgb.score(X_test,y_test)\n",
    "print(\"Accuracy obtained by XGB Classifier model:\", XGBClassifierScore*100)"
   ]
  },
  {
   "cell_type": "code",
   "execution_count": null,
   "id": "215b9f30",
   "metadata": {
    "execution": {
     "iopub.execute_input": "2022-03-16T05:16:41.292992Z",
     "iopub.status.busy": "2022-03-16T05:16:41.292042Z",
     "iopub.status.idle": "2022-03-16T05:16:41.343369Z",
     "shell.execute_reply": "2022-03-16T05:16:41.342717Z",
     "shell.execute_reply.started": "2022-01-31T09:53:02.013174Z"
    },
    "papermill": {
     "duration": 0.154026,
     "end_time": "2022-03-16T05:16:41.343540",
     "exception": false,
     "start_time": "2022-03-16T05:16:41.189514",
     "status": "completed"
    },
    "tags": []
   },
   "outputs": [],
   "source": [
    "y_pred_xgb = xgb.predict(X_test)\n",
    "print(metrics.classification_report(y_test, y_pred_xgb))"
   ]
  },
  {
   "cell_type": "markdown",
   "id": "1fc9c7cf",
   "metadata": {
    "papermill": {
     "duration": 0.09783,
     "end_time": "2022-03-16T05:16:41.539785",
     "exception": false,
     "start_time": "2022-03-16T05:16:41.441955",
     "status": "completed"
    },
    "tags": []
   },
   "source": [
    "## <p style=\"background-color:#00843D;font-family:inter;color:#FFCD00;font-size:150%;text-align:center;border-radius:10px 10px;\">Comparing performance of the models</p>"
   ]
  },
  {
   "cell_type": "code",
   "execution_count": null,
   "id": "c28b5e1c",
   "metadata": {
    "execution": {
     "iopub.execute_input": "2022-03-16T05:16:41.740243Z",
     "iopub.status.busy": "2022-03-16T05:16:41.739293Z",
     "iopub.status.idle": "2022-03-16T05:16:41.947032Z",
     "shell.execute_reply": "2022-03-16T05:16:41.947638Z",
     "shell.execute_reply.started": "2022-01-31T09:57:47.32357Z"
    },
    "papermill": {
     "duration": 0.31036,
     "end_time": "2022-03-16T05:16:41.947820",
     "exception": false,
     "start_time": "2022-03-16T05:16:41.637460",
     "status": "completed"
    },
    "tags": []
   },
   "outputs": [],
   "source": [
    "x = [\"Logistic Regression\", \"Random Forest Classifier\",\n",
    "     \"KNeighbors Classifier\",\"CatBoost Classifier\", \n",
    "     \"XGB Classifier\",\n",
    "     \"Gradient Boosting Classifier\", \n",
    "     \"Stochastic Gradient Boosting\"]\n",
    "\n",
    "y = [LogisticRegressionScore,\n",
    "     RandomForestClassifierScore,\n",
    "     KNeighborsClassifierScore,\n",
    "     CatBoostClassifierScore, \n",
    "     XGBClassifierScore,\n",
    "     GradientBoostingClassifierScore, \n",
    "     StochasticGradientBoostingScore]\n",
    "\n",
    "plt.style.use(\"seaborn\")\n",
    "fig, ax = plt.subplots(figsize=(10,6))\n",
    "sns.barplot(x=x,y=y, palette=\"viridis\");\n",
    "plt.ylabel(\"Model Accuracy\")\n",
    "plt.xticks(rotation=40)\n",
    "plt.title(\"Model Comparison - Model Accuracy\", fontsize=15);"
   ]
  }
 ],
 "metadata": {
  "kernelspec": {
   "display_name": "Python 3 (ipykernel)",
   "language": "python",
   "name": "python3"
  },
  "language_info": {
   "codemirror_mode": {
    "name": "ipython",
    "version": 3
   },
   "file_extension": ".py",
   "mimetype": "text/x-python",
   "name": "python",
   "nbconvert_exporter": "python",
   "pygments_lexer": "ipython3",
   "version": "3.11.3"
  },
  "papermill": {
   "default_parameters": {},
   "duration": 94.613848,
   "end_time": "2022-03-16T05:16:42.859803",
   "environment_variables": {},
   "exception": null,
   "input_path": "__notebook__.ipynb",
   "output_path": "__notebook__.ipynb",
   "parameters": {},
   "start_time": "2022-03-16T05:15:08.245955",
   "version": "2.3.3"
  }
 },
 "nbformat": 4,
 "nbformat_minor": 5
}
