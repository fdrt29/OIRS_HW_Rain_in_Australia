{
 "cells": [
  {
   "cell_type": "code",
   "execution_count": 5,
   "metadata": {
    "_cell_guid": "b1076dfc-b9ad-4769-8c92-a6c4dae69d19",
    "_uuid": "8f2839f25d086af736a60e9eeb907d3b93b6e0e5",
    "execution": {
     "iopub.execute_input": "2021-03-23T09:44:16.023727Z",
     "iopub.status.busy": "2021-03-23T09:44:16.022933Z",
     "iopub.status.idle": "2021-03-23T09:44:16.033753Z",
     "shell.execute_reply": "2021-03-23T09:44:16.034249Z"
    },
    "papermill": {
     "duration": 0.034616,
     "end_time": "2021-03-23T09:44:16.034645",
     "exception": false,
     "start_time": "2021-03-23T09:44:16.000029",
     "status": "completed"
    },
    "tags": []
   },
   "outputs": [],
   "source": [
    "import numpy as np # linear algebra\n",
    "import pandas as pd # data processing, CSV file I/O (e.g. pd.read_csv)\n",
    "\n",
    "import os\n",
    "for dirname, _, filenames in os.walk('/kaggle/input'):\n",
    "    for filename in filenames:\n",
    "        print(os.path.join(dirname, filename))"
   ]
  },
  {
   "cell_type": "markdown",
   "metadata": {
    "papermill": {
     "duration": 0.013699,
     "end_time": "2021-03-23T09:44:16.063455",
     "exception": false,
     "start_time": "2021-03-23T09:44:16.049756",
     "status": "completed"
    },
    "tags": []
   },
   "source": [
    "## Imports"
   ]
  },
  {
   "cell_type": "code",
   "execution_count": 6,
   "metadata": {
    "execution": {
     "iopub.execute_input": "2021-03-23T09:44:16.099427Z",
     "iopub.status.busy": "2021-03-23T09:44:16.098475Z",
     "iopub.status.idle": "2021-03-23T09:44:17.904787Z",
     "shell.execute_reply": "2021-03-23T09:44:17.903867Z"
    },
    "papermill": {
     "duration": 1.827432,
     "end_time": "2021-03-23T09:44:17.904984",
     "exception": false,
     "start_time": "2021-03-23T09:44:16.077552",
     "status": "completed"
    },
    "tags": []
   },
   "outputs": [],
   "source": [
    "import time\n",
    "from scipy import stats\n",
    "from sklearn.feature_selection import SelectKBest, chi2\n",
    "from sklearn.model_selection import train_test_split\n",
    "from sklearn.neighbors import KNeighborsClassifier\n",
    "from sklearn.ensemble import RandomForestClassifier\n",
    "\n",
    "from sklearn import svm\n",
    "from sklearn.metrics import accuracy_score"
   ]
  },
  {
   "cell_type": "markdown",
   "metadata": {
    "papermill": {
     "duration": 0.014235,
     "end_time": "2021-03-23T09:44:17.933887",
     "exception": false,
     "start_time": "2021-03-23T09:44:17.919652",
     "status": "completed"
    },
    "tags": []
   },
   "source": [
    "## Data Preprocessing"
   ]
  },
  {
   "cell_type": "code",
   "execution_count": 7,
   "metadata": {
    "execution": {
     "iopub.execute_input": "2021-03-23T09:44:17.971748Z",
     "iopub.status.busy": "2021-03-23T09:44:17.970871Z",
     "iopub.status.idle": "2021-03-23T09:44:18.797043Z",
     "shell.execute_reply": "2021-03-23T09:44:18.796308Z"
    },
    "papermill": {
     "duration": 0.84842,
     "end_time": "2021-03-23T09:44:18.797218",
     "exception": false,
     "start_time": "2021-03-23T09:44:17.948798",
     "status": "completed"
    },
    "tags": []
   },
   "outputs": [
    {
     "name": "stdout",
     "output_type": "stream",
     "text": [
      "Size of weather data frame is : (145460, 23)\n"
     ]
    },
    {
     "data": {
      "text/html": [
       "<div>\n",
       "<style scoped>\n",
       "    .dataframe tbody tr th:only-of-type {\n",
       "        vertical-align: middle;\n",
       "    }\n",
       "\n",
       "    .dataframe tbody tr th {\n",
       "        vertical-align: top;\n",
       "    }\n",
       "\n",
       "    .dataframe thead th {\n",
       "        text-align: right;\n",
       "    }\n",
       "</style>\n",
       "<table border=\"1\" class=\"dataframe\">\n",
       "  <thead>\n",
       "    <tr style=\"text-align: right;\">\n",
       "      <th></th>\n",
       "      <th>Date</th>\n",
       "      <th>Location</th>\n",
       "      <th>MinTemp</th>\n",
       "      <th>MaxTemp</th>\n",
       "      <th>Rainfall</th>\n",
       "      <th>Evaporation</th>\n",
       "      <th>Sunshine</th>\n",
       "      <th>WindGustDir</th>\n",
       "      <th>WindGustSpeed</th>\n",
       "      <th>WindDir9am</th>\n",
       "      <th>...</th>\n",
       "      <th>Humidity9am</th>\n",
       "      <th>Humidity3pm</th>\n",
       "      <th>Pressure9am</th>\n",
       "      <th>Pressure3pm</th>\n",
       "      <th>Cloud9am</th>\n",
       "      <th>Cloud3pm</th>\n",
       "      <th>Temp9am</th>\n",
       "      <th>Temp3pm</th>\n",
       "      <th>RainToday</th>\n",
       "      <th>RainTomorrow</th>\n",
       "    </tr>\n",
       "  </thead>\n",
       "  <tbody>\n",
       "    <tr>\n",
       "      <th>0</th>\n",
       "      <td>2008-12-01</td>\n",
       "      <td>Albury</td>\n",
       "      <td>13.4</td>\n",
       "      <td>22.9</td>\n",
       "      <td>0.6</td>\n",
       "      <td>NaN</td>\n",
       "      <td>NaN</td>\n",
       "      <td>W</td>\n",
       "      <td>44.0</td>\n",
       "      <td>W</td>\n",
       "      <td>...</td>\n",
       "      <td>71.0</td>\n",
       "      <td>22.0</td>\n",
       "      <td>1007.7</td>\n",
       "      <td>1007.1</td>\n",
       "      <td>8.0</td>\n",
       "      <td>NaN</td>\n",
       "      <td>16.9</td>\n",
       "      <td>21.8</td>\n",
       "      <td>No</td>\n",
       "      <td>No</td>\n",
       "    </tr>\n",
       "    <tr>\n",
       "      <th>1</th>\n",
       "      <td>2008-12-02</td>\n",
       "      <td>Albury</td>\n",
       "      <td>7.4</td>\n",
       "      <td>25.1</td>\n",
       "      <td>0.0</td>\n",
       "      <td>NaN</td>\n",
       "      <td>NaN</td>\n",
       "      <td>WNW</td>\n",
       "      <td>44.0</td>\n",
       "      <td>NNW</td>\n",
       "      <td>...</td>\n",
       "      <td>44.0</td>\n",
       "      <td>25.0</td>\n",
       "      <td>1010.6</td>\n",
       "      <td>1007.8</td>\n",
       "      <td>NaN</td>\n",
       "      <td>NaN</td>\n",
       "      <td>17.2</td>\n",
       "      <td>24.3</td>\n",
       "      <td>No</td>\n",
       "      <td>No</td>\n",
       "    </tr>\n",
       "    <tr>\n",
       "      <th>2</th>\n",
       "      <td>2008-12-03</td>\n",
       "      <td>Albury</td>\n",
       "      <td>12.9</td>\n",
       "      <td>25.7</td>\n",
       "      <td>0.0</td>\n",
       "      <td>NaN</td>\n",
       "      <td>NaN</td>\n",
       "      <td>WSW</td>\n",
       "      <td>46.0</td>\n",
       "      <td>W</td>\n",
       "      <td>...</td>\n",
       "      <td>38.0</td>\n",
       "      <td>30.0</td>\n",
       "      <td>1007.6</td>\n",
       "      <td>1008.7</td>\n",
       "      <td>NaN</td>\n",
       "      <td>2.0</td>\n",
       "      <td>21.0</td>\n",
       "      <td>23.2</td>\n",
       "      <td>No</td>\n",
       "      <td>No</td>\n",
       "    </tr>\n",
       "    <tr>\n",
       "      <th>3</th>\n",
       "      <td>2008-12-04</td>\n",
       "      <td>Albury</td>\n",
       "      <td>9.2</td>\n",
       "      <td>28.0</td>\n",
       "      <td>0.0</td>\n",
       "      <td>NaN</td>\n",
       "      <td>NaN</td>\n",
       "      <td>NE</td>\n",
       "      <td>24.0</td>\n",
       "      <td>SE</td>\n",
       "      <td>...</td>\n",
       "      <td>45.0</td>\n",
       "      <td>16.0</td>\n",
       "      <td>1017.6</td>\n",
       "      <td>1012.8</td>\n",
       "      <td>NaN</td>\n",
       "      <td>NaN</td>\n",
       "      <td>18.1</td>\n",
       "      <td>26.5</td>\n",
       "      <td>No</td>\n",
       "      <td>No</td>\n",
       "    </tr>\n",
       "    <tr>\n",
       "      <th>4</th>\n",
       "      <td>2008-12-05</td>\n",
       "      <td>Albury</td>\n",
       "      <td>17.5</td>\n",
       "      <td>32.3</td>\n",
       "      <td>1.0</td>\n",
       "      <td>NaN</td>\n",
       "      <td>NaN</td>\n",
       "      <td>W</td>\n",
       "      <td>41.0</td>\n",
       "      <td>ENE</td>\n",
       "      <td>...</td>\n",
       "      <td>82.0</td>\n",
       "      <td>33.0</td>\n",
       "      <td>1010.8</td>\n",
       "      <td>1006.0</td>\n",
       "      <td>7.0</td>\n",
       "      <td>8.0</td>\n",
       "      <td>17.8</td>\n",
       "      <td>29.7</td>\n",
       "      <td>No</td>\n",
       "      <td>No</td>\n",
       "    </tr>\n",
       "  </tbody>\n",
       "</table>\n",
       "<p>5 rows × 23 columns</p>\n",
       "</div>"
      ],
      "text/plain": [
       "         Date Location  MinTemp  MaxTemp  Rainfall  Evaporation  Sunshine   \n",
       "0  2008-12-01   Albury     13.4     22.9       0.6          NaN       NaN  \\\n",
       "1  2008-12-02   Albury      7.4     25.1       0.0          NaN       NaN   \n",
       "2  2008-12-03   Albury     12.9     25.7       0.0          NaN       NaN   \n",
       "3  2008-12-04   Albury      9.2     28.0       0.0          NaN       NaN   \n",
       "4  2008-12-05   Albury     17.5     32.3       1.0          NaN       NaN   \n",
       "\n",
       "  WindGustDir  WindGustSpeed WindDir9am  ... Humidity9am  Humidity3pm   \n",
       "0           W           44.0          W  ...        71.0         22.0  \\\n",
       "1         WNW           44.0        NNW  ...        44.0         25.0   \n",
       "2         WSW           46.0          W  ...        38.0         30.0   \n",
       "3          NE           24.0         SE  ...        45.0         16.0   \n",
       "4           W           41.0        ENE  ...        82.0         33.0   \n",
       "\n",
       "   Pressure9am  Pressure3pm  Cloud9am  Cloud3pm  Temp9am  Temp3pm  RainToday   \n",
       "0       1007.7       1007.1       8.0       NaN     16.9     21.8         No  \\\n",
       "1       1010.6       1007.8       NaN       NaN     17.2     24.3         No   \n",
       "2       1007.6       1008.7       NaN       2.0     21.0     23.2         No   \n",
       "3       1017.6       1012.8       NaN       NaN     18.1     26.5         No   \n",
       "4       1010.8       1006.0       7.0       8.0     17.8     29.7         No   \n",
       "\n",
       "   RainTomorrow  \n",
       "0            No  \n",
       "1            No  \n",
       "2            No  \n",
       "3            No  \n",
       "4            No  \n",
       "\n",
       "[5 rows x 23 columns]"
      ]
     },
     "execution_count": 7,
     "metadata": {},
     "output_type": "execute_result"
    }
   ],
   "source": [
    "df = pd.read_csv('./input/weatherAUS.csv')\n",
    "print('Size of weather data frame is :',df.shape)\n",
    "#Let us see how our data looks like!\n",
    "df.head()"
   ]
  },
  {
   "cell_type": "code",
   "execution_count": 8,
   "metadata": {
    "execution": {
     "iopub.execute_input": "2021-03-23T09:44:18.835618Z",
     "iopub.status.busy": "2021-03-23T09:44:18.834434Z",
     "iopub.status.idle": "2021-03-23T09:44:18.954463Z",
     "shell.execute_reply": "2021-03-23T09:44:18.953809Z"
    },
    "papermill": {
     "duration": 0.141603,
     "end_time": "2021-03-23T09:44:18.954602",
     "exception": false,
     "start_time": "2021-03-23T09:44:18.812999",
     "status": "completed"
    },
    "tags": []
   },
   "outputs": [
    {
     "data": {
      "text/plain": [
       "Sunshine          75625\n",
       "Evaporation       82670\n",
       "Cloud3pm          86102\n",
       "Cloud9am          89572\n",
       "Pressure9am      130395\n",
       "Pressure3pm      130432\n",
       "WindDir9am       134894\n",
       "WindGustDir      135134\n",
       "WindGustSpeed    135197\n",
       "Humidity3pm      140953\n",
       "WindDir3pm       141232\n",
       "Temp3pm          141851\n",
       "RainTomorrow     142193\n",
       "RainToday        142199\n",
       "Rainfall         142199\n",
       "WindSpeed3pm     142398\n",
       "Humidity9am      142806\n",
       "Temp9am          143693\n",
       "WindSpeed9am     143693\n",
       "MinTemp          143975\n",
       "MaxTemp          144199\n",
       "Location         145460\n",
       "Date             145460\n",
       "dtype: int64"
      ]
     },
     "execution_count": 8,
     "metadata": {},
     "output_type": "execute_result"
    }
   ],
   "source": [
    "# We see there are some columns with null values. \n",
    "# Before we start pre-processing, let's find out which of the columns have maximum null values\n",
    "df.count().sort_values()"
   ]
  },
  {
   "cell_type": "code",
   "execution_count": 9,
   "metadata": {
    "execution": {
     "iopub.execute_input": "2021-03-23T09:44:19.008759Z",
     "iopub.status.busy": "2021-03-23T09:44:19.007868Z",
     "iopub.status.idle": "2021-03-23T09:44:19.012598Z",
     "shell.execute_reply": "2021-03-23T09:44:19.011918Z"
    },
    "papermill": {
     "duration": 0.042363,
     "end_time": "2021-03-23T09:44:19.012905",
     "exception": false,
     "start_time": "2021-03-23T09:44:18.970542",
     "status": "completed"
    },
    "tags": []
   },
   "outputs": [
    {
     "data": {
      "text/plain": [
       "(145460, 17)"
      ]
     },
     "execution_count": 9,
     "metadata": {},
     "output_type": "execute_result"
    }
   ],
   "source": [
    "# As we can see the first four columns have less than 60% data, we can ignore these four columns\n",
    "# We don't need the location column because \n",
    "# we are going to find if it will rain in Australia(not location specific)\n",
    "# We are going to drop the date column too.\n",
    "# We need to remove RISK_MM because we want to predict 'RainTomorrow' and RISK_MM can leak some info to our model\n",
    "df = df.drop(columns=['Sunshine','Evaporation','Cloud3pm','Cloud9am','Location','Date'],axis=1)\n",
    "df.shape"
   ]
  },
  {
   "cell_type": "code",
   "execution_count": 10,
   "metadata": {
    "execution": {
     "iopub.execute_input": "2021-03-23T09:44:19.052655Z",
     "iopub.status.busy": "2021-03-23T09:44:19.051990Z",
     "iopub.status.idle": "2021-03-23T09:44:19.190896Z",
     "shell.execute_reply": "2021-03-23T09:44:19.189434Z"
    },
    "papermill": {
     "duration": 0.161724,
     "end_time": "2021-03-23T09:44:19.191114",
     "exception": false,
     "start_time": "2021-03-23T09:44:19.029390",
     "status": "completed"
    },
    "tags": []
   },
   "outputs": [
    {
     "data": {
      "text/plain": [
       "(112925, 17)"
      ]
     },
     "execution_count": 10,
     "metadata": {},
     "output_type": "execute_result"
    }
   ],
   "source": [
    "#Let us get rid of all null values in df\n",
    "df = df.dropna(how='any')\n",
    "df.shape"
   ]
  },
  {
   "cell_type": "code",
   "execution_count": 11,
   "metadata": {
    "execution": {
     "iopub.execute_input": "2021-03-23T09:44:19.234193Z",
     "iopub.status.busy": "2021-03-23T09:44:19.233497Z",
     "iopub.status.idle": "2021-03-23T09:44:19.281091Z",
     "shell.execute_reply": "2021-03-23T09:44:19.280491Z"
    },
    "papermill": {
     "duration": 0.072772,
     "end_time": "2021-03-23T09:44:19.281261",
     "exception": false,
     "start_time": "2021-03-23T09:44:19.208489",
     "status": "completed"
    },
    "tags": []
   },
   "outputs": [
    {
     "name": "stdout",
     "output_type": "stream",
     "text": [
      "         MinTemp   MaxTemp  Rainfall  WindGustSpeed  WindSpeed9am   \n",
      "0       0.117567  0.108221  0.206661       0.241214      0.577742  \\\n",
      "1       0.841802  0.206845  0.276405       0.241214      1.339742   \n",
      "2       0.037620  0.292772  0.276405       0.391345      0.457900   \n",
      "3       0.553991  0.622159  0.276405       1.260094      0.500842   \n",
      "4       0.773137  1.237969  0.160165       0.016018      0.980214   \n",
      "...          ...       ...       ...            ...           ...   \n",
      "145454  1.465392  0.265754  0.276405       0.734636      0.021471   \n",
      "145455  1.577319  0.036615  0.276405       0.734636      0.261157   \n",
      "145456  1.449403  0.235487  0.276405       1.410225      0.261157   \n",
      "145457  1.161592  0.464626  0.276405       0.284243      0.740528   \n",
      "145458  0.777844  0.478947  0.276405       0.959832      0.261157   \n",
      "\n",
      "        WindSpeed3pm  Humidity9am  Humidity3pm  Pressure9am  Pressure3pm   \n",
      "0           0.524408     0.190140     1.380413     1.382962     1.142455  \\\n",
      "1           0.291310     1.237561     1.235963     0.970598     1.041848   \n",
      "2           0.757507     1.554828     0.995214     1.397181     0.912497   \n",
      "3           1.223831     1.184683     1.669313     0.024764     0.323229   \n",
      "4           0.058211     0.771796     0.850764     0.942159     1.300551   \n",
      "...              ...          ...          ...          ...          ...   \n",
      "145454      0.757634     0.444394     1.139664     1.034344     0.884050   \n",
      "145455      0.990733     0.867416     1.284113     1.020125     0.754699   \n",
      "145456      1.223831     0.603027     1.428563     0.863711     0.582231   \n",
      "145457      1.223831     0.761660     1.284113     0.508225     0.251666   \n",
      "145458      1.456930     0.867416     1.284113     0.280714     0.208549   \n",
      "\n",
      "         Temp9am   Temp3pm  \n",
      "0       0.088435  0.047870  \n",
      "1       0.041228  0.317768  \n",
      "2       0.556724  0.156887  \n",
      "3       0.100392  0.639531  \n",
      "4       0.053185  1.107548  \n",
      "...          ...       ...  \n",
      "145454  1.268605  0.179500  \n",
      "145455  1.158456  0.039883  \n",
      "145456  1.032571  0.347020  \n",
      "145457  0.780802  0.581028  \n",
      "145458  0.371676  0.566403  \n",
      "\n",
      "[112925 rows x 12 columns]\n",
      "(107868, 17)\n"
     ]
    }
   ],
   "source": [
    "#its time to remove the outliers in our data - we are using Z-score to detect and remove the outliers.\n",
    "\n",
    "z = np.abs(stats.zscore(df._get_numeric_data()))\n",
    "print(z)\n",
    "df= df[(z < 3).all(axis=1)]\n",
    "print(df.shape)"
   ]
  },
  {
   "cell_type": "code",
   "execution_count": 12,
   "metadata": {
    "execution": {
     "iopub.execute_input": "2021-03-23T09:44:19.335597Z",
     "iopub.status.busy": "2021-03-23T09:44:19.334877Z",
     "iopub.status.idle": "2021-03-23T09:44:19.992565Z",
     "shell.execute_reply": "2021-03-23T09:44:19.991967Z"
    },
    "papermill": {
     "duration": 0.69367,
     "end_time": "2021-03-23T09:44:19.992725",
     "exception": false,
     "start_time": "2021-03-23T09:44:19.299055",
     "status": "completed"
    },
    "tags": []
   },
   "outputs": [
    {
     "name": "stdout",
     "output_type": "stream",
     "text": [
      "['E' 'ENE' 'ESE' 'N' 'NE' 'NNE' 'NNW' 'NW' 'S' 'SE' 'SSE' 'SSW' 'SW' 'W'\n",
      " 'WNW' 'WSW']\n",
      "['E' 'ENE' 'ESE' 'N' 'NE' 'NNE' 'NNW' 'NW' 'S' 'SE' 'SSE' 'SSW' 'SW' 'W'\n",
      " 'WNW' 'WSW']\n",
      "['E' 'ENE' 'ESE' 'N' 'NE' 'NNE' 'NNW' 'NW' 'S' 'SE' 'SSE' 'SSW' 'SW' 'W'\n",
      " 'WNW' 'WSW']\n"
     ]
    },
    {
     "data": {
      "text/html": [
       "<div>\n",
       "<style scoped>\n",
       "    .dataframe tbody tr th:only-of-type {\n",
       "        vertical-align: middle;\n",
       "    }\n",
       "\n",
       "    .dataframe tbody tr th {\n",
       "        vertical-align: top;\n",
       "    }\n",
       "\n",
       "    .dataframe thead th {\n",
       "        text-align: right;\n",
       "    }\n",
       "</style>\n",
       "<table border=\"1\" class=\"dataframe\">\n",
       "  <thead>\n",
       "    <tr style=\"text-align: right;\">\n",
       "      <th></th>\n",
       "      <th>MinTemp</th>\n",
       "      <th>MaxTemp</th>\n",
       "      <th>Rainfall</th>\n",
       "      <th>WindGustSpeed</th>\n",
       "      <th>WindSpeed9am</th>\n",
       "      <th>WindSpeed3pm</th>\n",
       "      <th>Humidity9am</th>\n",
       "      <th>Humidity3pm</th>\n",
       "      <th>Pressure9am</th>\n",
       "      <th>Pressure3pm</th>\n",
       "      <th>...</th>\n",
       "      <th>WindDir9am_NNW</th>\n",
       "      <th>WindDir9am_NW</th>\n",
       "      <th>WindDir9am_S</th>\n",
       "      <th>WindDir9am_SE</th>\n",
       "      <th>WindDir9am_SSE</th>\n",
       "      <th>WindDir9am_SSW</th>\n",
       "      <th>WindDir9am_SW</th>\n",
       "      <th>WindDir9am_W</th>\n",
       "      <th>WindDir9am_WNW</th>\n",
       "      <th>WindDir9am_WSW</th>\n",
       "    </tr>\n",
       "  </thead>\n",
       "  <tbody>\n",
       "    <tr>\n",
       "      <th>4</th>\n",
       "      <td>17.5</td>\n",
       "      <td>32.3</td>\n",
       "      <td>1.0</td>\n",
       "      <td>41.0</td>\n",
       "      <td>7.0</td>\n",
       "      <td>20.0</td>\n",
       "      <td>82.0</td>\n",
       "      <td>33.0</td>\n",
       "      <td>1010.8</td>\n",
       "      <td>1006.0</td>\n",
       "      <td>...</td>\n",
       "      <td>False</td>\n",
       "      <td>False</td>\n",
       "      <td>False</td>\n",
       "      <td>False</td>\n",
       "      <td>False</td>\n",
       "      <td>False</td>\n",
       "      <td>False</td>\n",
       "      <td>False</td>\n",
       "      <td>False</td>\n",
       "      <td>False</td>\n",
       "    </tr>\n",
       "    <tr>\n",
       "      <th>5</th>\n",
       "      <td>14.6</td>\n",
       "      <td>29.7</td>\n",
       "      <td>0.2</td>\n",
       "      <td>56.0</td>\n",
       "      <td>19.0</td>\n",
       "      <td>24.0</td>\n",
       "      <td>55.0</td>\n",
       "      <td>23.0</td>\n",
       "      <td>1009.2</td>\n",
       "      <td>1005.4</td>\n",
       "      <td>...</td>\n",
       "      <td>False</td>\n",
       "      <td>False</td>\n",
       "      <td>False</td>\n",
       "      <td>False</td>\n",
       "      <td>False</td>\n",
       "      <td>False</td>\n",
       "      <td>False</td>\n",
       "      <td>True</td>\n",
       "      <td>False</td>\n",
       "      <td>False</td>\n",
       "    </tr>\n",
       "    <tr>\n",
       "      <th>6</th>\n",
       "      <td>14.3</td>\n",
       "      <td>25.0</td>\n",
       "      <td>0.0</td>\n",
       "      <td>50.0</td>\n",
       "      <td>20.0</td>\n",
       "      <td>24.0</td>\n",
       "      <td>49.0</td>\n",
       "      <td>19.0</td>\n",
       "      <td>1009.6</td>\n",
       "      <td>1008.2</td>\n",
       "      <td>...</td>\n",
       "      <td>False</td>\n",
       "      <td>False</td>\n",
       "      <td>False</td>\n",
       "      <td>False</td>\n",
       "      <td>False</td>\n",
       "      <td>False</td>\n",
       "      <td>True</td>\n",
       "      <td>False</td>\n",
       "      <td>False</td>\n",
       "      <td>False</td>\n",
       "    </tr>\n",
       "    <tr>\n",
       "      <th>7</th>\n",
       "      <td>7.7</td>\n",
       "      <td>26.7</td>\n",
       "      <td>0.0</td>\n",
       "      <td>35.0</td>\n",
       "      <td>6.0</td>\n",
       "      <td>17.0</td>\n",
       "      <td>48.0</td>\n",
       "      <td>19.0</td>\n",
       "      <td>1013.4</td>\n",
       "      <td>1010.1</td>\n",
       "      <td>...</td>\n",
       "      <td>False</td>\n",
       "      <td>False</td>\n",
       "      <td>False</td>\n",
       "      <td>False</td>\n",
       "      <td>True</td>\n",
       "      <td>False</td>\n",
       "      <td>False</td>\n",
       "      <td>False</td>\n",
       "      <td>False</td>\n",
       "      <td>False</td>\n",
       "    </tr>\n",
       "    <tr>\n",
       "      <th>8</th>\n",
       "      <td>9.7</td>\n",
       "      <td>31.9</td>\n",
       "      <td>0.0</td>\n",
       "      <td>80.0</td>\n",
       "      <td>7.0</td>\n",
       "      <td>28.0</td>\n",
       "      <td>42.0</td>\n",
       "      <td>9.0</td>\n",
       "      <td>1008.9</td>\n",
       "      <td>1003.6</td>\n",
       "      <td>...</td>\n",
       "      <td>False</td>\n",
       "      <td>False</td>\n",
       "      <td>False</td>\n",
       "      <td>True</td>\n",
       "      <td>False</td>\n",
       "      <td>False</td>\n",
       "      <td>False</td>\n",
       "      <td>False</td>\n",
       "      <td>False</td>\n",
       "      <td>False</td>\n",
       "    </tr>\n",
       "  </tbody>\n",
       "</table>\n",
       "<p>5 rows × 62 columns</p>\n",
       "</div>"
      ],
      "text/plain": [
       "   MinTemp  MaxTemp  Rainfall  WindGustSpeed  WindSpeed9am  WindSpeed3pm   \n",
       "4     17.5     32.3       1.0           41.0           7.0          20.0  \\\n",
       "5     14.6     29.7       0.2           56.0          19.0          24.0   \n",
       "6     14.3     25.0       0.0           50.0          20.0          24.0   \n",
       "7      7.7     26.7       0.0           35.0           6.0          17.0   \n",
       "8      9.7     31.9       0.0           80.0           7.0          28.0   \n",
       "\n",
       "   Humidity9am  Humidity3pm  Pressure9am  Pressure3pm  ...  WindDir9am_NNW   \n",
       "4         82.0         33.0       1010.8       1006.0  ...           False  \\\n",
       "5         55.0         23.0       1009.2       1005.4  ...           False   \n",
       "6         49.0         19.0       1009.6       1008.2  ...           False   \n",
       "7         48.0         19.0       1013.4       1010.1  ...           False   \n",
       "8         42.0          9.0       1008.9       1003.6  ...           False   \n",
       "\n",
       "   WindDir9am_NW  WindDir9am_S  WindDir9am_SE  WindDir9am_SSE  WindDir9am_SSW   \n",
       "4          False         False          False           False           False  \\\n",
       "5          False         False          False           False           False   \n",
       "6          False         False          False           False           False   \n",
       "7          False         False          False            True           False   \n",
       "8          False         False           True           False           False   \n",
       "\n",
       "   WindDir9am_SW  WindDir9am_W  WindDir9am_WNW  WindDir9am_WSW  \n",
       "4          False         False           False           False  \n",
       "5          False          True           False           False  \n",
       "6           True         False           False           False  \n",
       "7          False         False           False           False  \n",
       "8          False         False           False           False  \n",
       "\n",
       "[5 rows x 62 columns]"
      ]
     },
     "execution_count": 12,
     "metadata": {},
     "output_type": "execute_result"
    }
   ],
   "source": [
    "#Lets deal with the categorical cloumns now\n",
    "# simply change yes/no to 1/0 for RainToday and RainTomorrow\n",
    "df['RainToday'].replace({'No': 0, 'Yes': 1},inplace = True)\n",
    "df['RainTomorrow'].replace({'No': 0, 'Yes': 1},inplace = True)\n",
    "\n",
    "#See unique values and convert them to int using pd.getDummies()\n",
    "categorical_columns = ['WindGustDir', 'WindDir3pm', 'WindDir9am']\n",
    "for col in categorical_columns:\n",
    "    print(np.unique(df[col]))\n",
    "# transform the categorical columns\n",
    "df = pd.get_dummies(df, columns=categorical_columns)\n",
    "df.iloc[4:9]"
   ]
  },
  {
   "cell_type": "code",
   "execution_count": 13,
   "metadata": {
    "execution": {
     "iopub.execute_input": "2021-03-23T09:44:20.040301Z",
     "iopub.status.busy": "2021-03-23T09:44:20.039648Z",
     "iopub.status.idle": "2021-03-23T09:44:20.222263Z",
     "shell.execute_reply": "2021-03-23T09:44:20.221622Z"
    },
    "papermill": {
     "duration": 0.210734,
     "end_time": "2021-03-23T09:44:20.222433",
     "exception": false,
     "start_time": "2021-03-23T09:44:20.011699",
     "status": "completed"
    },
    "tags": []
   },
   "outputs": [
    {
     "data": {
      "text/html": [
       "<div>\n",
       "<style scoped>\n",
       "    .dataframe tbody tr th:only-of-type {\n",
       "        vertical-align: middle;\n",
       "    }\n",
       "\n",
       "    .dataframe tbody tr th {\n",
       "        vertical-align: top;\n",
       "    }\n",
       "\n",
       "    .dataframe thead th {\n",
       "        text-align: right;\n",
       "    }\n",
       "</style>\n",
       "<table border=\"1\" class=\"dataframe\">\n",
       "  <thead>\n",
       "    <tr style=\"text-align: right;\">\n",
       "      <th></th>\n",
       "      <th>MinTemp</th>\n",
       "      <th>MaxTemp</th>\n",
       "      <th>Rainfall</th>\n",
       "      <th>WindGustSpeed</th>\n",
       "      <th>WindSpeed9am</th>\n",
       "      <th>WindSpeed3pm</th>\n",
       "      <th>Humidity9am</th>\n",
       "      <th>Humidity3pm</th>\n",
       "      <th>Pressure9am</th>\n",
       "      <th>Pressure3pm</th>\n",
       "      <th>...</th>\n",
       "      <th>WindDir9am_NNW</th>\n",
       "      <th>WindDir9am_NW</th>\n",
       "      <th>WindDir9am_S</th>\n",
       "      <th>WindDir9am_SE</th>\n",
       "      <th>WindDir9am_SSE</th>\n",
       "      <th>WindDir9am_SSW</th>\n",
       "      <th>WindDir9am_SW</th>\n",
       "      <th>WindDir9am_W</th>\n",
       "      <th>WindDir9am_WNW</th>\n",
       "      <th>WindDir9am_WSW</th>\n",
       "    </tr>\n",
       "  </thead>\n",
       "  <tbody>\n",
       "    <tr>\n",
       "      <th>4</th>\n",
       "      <td>0.628342</td>\n",
       "      <td>0.696296</td>\n",
       "      <td>0.035714</td>\n",
       "      <td>0.465753</td>\n",
       "      <td>0.135135</td>\n",
       "      <td>0.428571</td>\n",
       "      <td>0.797753</td>\n",
       "      <td>0.33</td>\n",
       "      <td>0.342043</td>\n",
       "      <td>0.282974</td>\n",
       "      <td>...</td>\n",
       "      <td>0.0</td>\n",
       "      <td>0.0</td>\n",
       "      <td>0.0</td>\n",
       "      <td>0.0</td>\n",
       "      <td>0.0</td>\n",
       "      <td>0.0</td>\n",
       "      <td>0.0</td>\n",
       "      <td>0.0</td>\n",
       "      <td>0.0</td>\n",
       "      <td>0.0</td>\n",
       "    </tr>\n",
       "    <tr>\n",
       "      <th>5</th>\n",
       "      <td>0.550802</td>\n",
       "      <td>0.632099</td>\n",
       "      <td>0.007143</td>\n",
       "      <td>0.671233</td>\n",
       "      <td>0.459459</td>\n",
       "      <td>0.523810</td>\n",
       "      <td>0.494382</td>\n",
       "      <td>0.23</td>\n",
       "      <td>0.304038</td>\n",
       "      <td>0.268585</td>\n",
       "      <td>...</td>\n",
       "      <td>0.0</td>\n",
       "      <td>0.0</td>\n",
       "      <td>0.0</td>\n",
       "      <td>0.0</td>\n",
       "      <td>0.0</td>\n",
       "      <td>0.0</td>\n",
       "      <td>0.0</td>\n",
       "      <td>1.0</td>\n",
       "      <td>0.0</td>\n",
       "      <td>0.0</td>\n",
       "    </tr>\n",
       "    <tr>\n",
       "      <th>6</th>\n",
       "      <td>0.542781</td>\n",
       "      <td>0.516049</td>\n",
       "      <td>0.000000</td>\n",
       "      <td>0.589041</td>\n",
       "      <td>0.486486</td>\n",
       "      <td>0.523810</td>\n",
       "      <td>0.426966</td>\n",
       "      <td>0.19</td>\n",
       "      <td>0.313539</td>\n",
       "      <td>0.335731</td>\n",
       "      <td>...</td>\n",
       "      <td>0.0</td>\n",
       "      <td>0.0</td>\n",
       "      <td>0.0</td>\n",
       "      <td>0.0</td>\n",
       "      <td>0.0</td>\n",
       "      <td>0.0</td>\n",
       "      <td>1.0</td>\n",
       "      <td>0.0</td>\n",
       "      <td>0.0</td>\n",
       "      <td>0.0</td>\n",
       "    </tr>\n",
       "    <tr>\n",
       "      <th>7</th>\n",
       "      <td>0.366310</td>\n",
       "      <td>0.558025</td>\n",
       "      <td>0.000000</td>\n",
       "      <td>0.383562</td>\n",
       "      <td>0.108108</td>\n",
       "      <td>0.357143</td>\n",
       "      <td>0.415730</td>\n",
       "      <td>0.19</td>\n",
       "      <td>0.403800</td>\n",
       "      <td>0.381295</td>\n",
       "      <td>...</td>\n",
       "      <td>0.0</td>\n",
       "      <td>0.0</td>\n",
       "      <td>0.0</td>\n",
       "      <td>0.0</td>\n",
       "      <td>1.0</td>\n",
       "      <td>0.0</td>\n",
       "      <td>0.0</td>\n",
       "      <td>0.0</td>\n",
       "      <td>0.0</td>\n",
       "      <td>0.0</td>\n",
       "    </tr>\n",
       "    <tr>\n",
       "      <th>8</th>\n",
       "      <td>0.419786</td>\n",
       "      <td>0.686420</td>\n",
       "      <td>0.000000</td>\n",
       "      <td>1.000000</td>\n",
       "      <td>0.135135</td>\n",
       "      <td>0.619048</td>\n",
       "      <td>0.348315</td>\n",
       "      <td>0.09</td>\n",
       "      <td>0.296912</td>\n",
       "      <td>0.225420</td>\n",
       "      <td>...</td>\n",
       "      <td>0.0</td>\n",
       "      <td>0.0</td>\n",
       "      <td>0.0</td>\n",
       "      <td>1.0</td>\n",
       "      <td>0.0</td>\n",
       "      <td>0.0</td>\n",
       "      <td>0.0</td>\n",
       "      <td>0.0</td>\n",
       "      <td>0.0</td>\n",
       "      <td>0.0</td>\n",
       "    </tr>\n",
       "    <tr>\n",
       "      <th>9</th>\n",
       "      <td>0.510695</td>\n",
       "      <td>0.641975</td>\n",
       "      <td>0.050000</td>\n",
       "      <td>0.287671</td>\n",
       "      <td>0.351351</td>\n",
       "      <td>0.214286</td>\n",
       "      <td>0.528090</td>\n",
       "      <td>0.27</td>\n",
       "      <td>0.251781</td>\n",
       "      <td>0.275779</td>\n",
       "      <td>...</td>\n",
       "      <td>0.0</td>\n",
       "      <td>0.0</td>\n",
       "      <td>1.0</td>\n",
       "      <td>0.0</td>\n",
       "      <td>0.0</td>\n",
       "      <td>0.0</td>\n",
       "      <td>0.0</td>\n",
       "      <td>0.0</td>\n",
       "      <td>0.0</td>\n",
       "      <td>0.0</td>\n",
       "    </tr>\n",
       "  </tbody>\n",
       "</table>\n",
       "<p>6 rows × 62 columns</p>\n",
       "</div>"
      ],
      "text/plain": [
       "    MinTemp   MaxTemp  Rainfall  WindGustSpeed  WindSpeed9am  WindSpeed3pm   \n",
       "4  0.628342  0.696296  0.035714       0.465753      0.135135      0.428571  \\\n",
       "5  0.550802  0.632099  0.007143       0.671233      0.459459      0.523810   \n",
       "6  0.542781  0.516049  0.000000       0.589041      0.486486      0.523810   \n",
       "7  0.366310  0.558025  0.000000       0.383562      0.108108      0.357143   \n",
       "8  0.419786  0.686420  0.000000       1.000000      0.135135      0.619048   \n",
       "9  0.510695  0.641975  0.050000       0.287671      0.351351      0.214286   \n",
       "\n",
       "   Humidity9am  Humidity3pm  Pressure9am  Pressure3pm  ...  WindDir9am_NNW   \n",
       "4     0.797753         0.33     0.342043     0.282974  ...             0.0  \\\n",
       "5     0.494382         0.23     0.304038     0.268585  ...             0.0   \n",
       "6     0.426966         0.19     0.313539     0.335731  ...             0.0   \n",
       "7     0.415730         0.19     0.403800     0.381295  ...             0.0   \n",
       "8     0.348315         0.09     0.296912     0.225420  ...             0.0   \n",
       "9     0.528090         0.27     0.251781     0.275779  ...             0.0   \n",
       "\n",
       "   WindDir9am_NW  WindDir9am_S  WindDir9am_SE  WindDir9am_SSE  WindDir9am_SSW   \n",
       "4            0.0           0.0            0.0             0.0             0.0  \\\n",
       "5            0.0           0.0            0.0             0.0             0.0   \n",
       "6            0.0           0.0            0.0             0.0             0.0   \n",
       "7            0.0           0.0            0.0             1.0             0.0   \n",
       "8            0.0           0.0            1.0             0.0             0.0   \n",
       "9            0.0           1.0            0.0             0.0             0.0   \n",
       "\n",
       "   WindDir9am_SW  WindDir9am_W  WindDir9am_WNW  WindDir9am_WSW  \n",
       "4            0.0           0.0             0.0             0.0  \n",
       "5            0.0           1.0             0.0             0.0  \n",
       "6            1.0           0.0             0.0             0.0  \n",
       "7            0.0           0.0             0.0             0.0  \n",
       "8            0.0           0.0             0.0             0.0  \n",
       "9            0.0           0.0             0.0             0.0  \n",
       "\n",
       "[6 rows x 62 columns]"
      ]
     },
     "execution_count": 13,
     "metadata": {},
     "output_type": "execute_result"
    }
   ],
   "source": [
    "#next step is to standardize our data - using MinMaxScaler\n",
    "from sklearn import preprocessing\n",
    "scaler = preprocessing.MinMaxScaler()\n",
    "scaler.fit(df)\n",
    "df = pd.DataFrame(scaler.transform(df), index=df.index, columns=df.columns)\n",
    "df.iloc[4:10]"
   ]
  },
  {
   "cell_type": "markdown",
   "metadata": {
    "papermill": {
     "duration": 0.01944,
     "end_time": "2021-03-23T09:44:20.261375",
     "exception": false,
     "start_time": "2021-03-23T09:44:20.241935",
     "status": "completed"
    },
    "tags": []
   },
   "source": [
    "## Feature Engineering"
   ]
  },
  {
   "cell_type": "code",
   "execution_count": 14,
   "metadata": {
    "execution": {
     "iopub.execute_input": "2021-03-23T09:44:20.341442Z",
     "iopub.status.busy": "2021-03-23T09:44:20.336715Z",
     "iopub.status.idle": "2021-03-23T09:44:20.446042Z",
     "shell.execute_reply": "2021-03-23T09:44:20.446540Z"
    },
    "papermill": {
     "duration": 0.165558,
     "end_time": "2021-03-23T09:44:20.446721",
     "exception": false,
     "start_time": "2021-03-23T09:44:20.281163",
     "status": "completed"
    },
    "tags": []
   },
   "outputs": [
    {
     "name": "stdout",
     "output_type": "stream",
     "text": [
      "Index(['Rainfall', 'Humidity3pm', 'RainToday'], dtype='object')\n"
     ]
    }
   ],
   "source": [
    "#now that we are done with the pre-processing part, let's see which are the important features for RainTomorrow!\n",
    "#Using SelectKBest to get the top features!\n",
    "\n",
    "X = df.loc[:,df.columns!='RainTomorrow']\n",
    "y = df[['RainTomorrow']]\n",
    "selector = SelectKBest(chi2, k=3)\n",
    "selector.fit(X, y)\n",
    "X_new = selector.transform(X)\n",
    "print(X.columns[selector.get_support(indices=True)]) #top 3 columns"
   ]
  },
  {
   "cell_type": "code",
   "execution_count": 15,
   "metadata": {
    "execution": {
     "iopub.execute_input": "2021-03-23T09:44:20.498136Z",
     "iopub.status.busy": "2021-03-23T09:44:20.497373Z",
     "iopub.status.idle": "2021-03-23T09:44:20.500467Z",
     "shell.execute_reply": "2021-03-23T09:44:20.499886Z"
    },
    "papermill": {
     "duration": 0.034257,
     "end_time": "2021-03-23T09:44:20.500636",
     "exception": false,
     "start_time": "2021-03-23T09:44:20.466379",
     "status": "completed"
    },
    "tags": []
   },
   "outputs": [],
   "source": [
    "#Let's get hold of the important features as assign them as X\n",
    "df = df[['Humidity3pm','Rainfall','RainToday','RainTomorrow']]\n",
    "X = df[['Humidity3pm']] # let's use only one feature Humidity3pm\n",
    "y = df[['RainTomorrow']]"
   ]
  },
  {
   "cell_type": "markdown",
   "metadata": {
    "papermill": {
     "duration": 0.020222,
     "end_time": "2021-03-23T09:44:20.541920",
     "exception": false,
     "start_time": "2021-03-23T09:44:20.521698",
     "status": "completed"
    },
    "tags": []
   },
   "source": [
    "## Models"
   ]
  },
  {
   "cell_type": "code",
   "execution_count": 16,
   "metadata": {
    "execution": {
     "iopub.execute_input": "2021-03-23T09:44:20.629165Z",
     "iopub.status.busy": "2021-03-23T09:44:20.628439Z",
     "iopub.status.idle": "2021-03-23T09:44:20.643350Z",
     "shell.execute_reply": "2021-03-23T09:44:20.642702Z"
    },
    "papermill": {
     "duration": 0.038704,
     "end_time": "2021-03-23T09:44:20.643558",
     "exception": false,
     "start_time": "2021-03-23T09:44:20.604854",
     "status": "completed"
    },
    "tags": []
   },
   "outputs": [],
   "source": [
    "t0=time.time()\n",
    "X_train,X_test,y_train,y_test = train_test_split(X,y,test_size=0.25)"
   ]
  },
  {
   "cell_type": "markdown",
   "metadata": {
    "papermill": {
     "duration": 0.020537,
     "end_time": "2021-03-23T09:44:20.857385",
     "exception": false,
     "start_time": "2021-03-23T09:44:20.836848",
     "status": "completed"
    },
    "tags": []
   },
   "source": [
    "### KNN"
   ]
  },
  {
   "cell_type": "code",
   "execution_count": 22,
   "metadata": {},
   "outputs": [
    {
     "name": "stderr",
     "output_type": "stream",
     "text": [
      "C:\\Users\\fedor\\AppData\\Local\\Packages\\PythonSoftwareFoundation.Python.3.11_qbz5n2kfra8p0\\LocalCache\\local-packages\\Python311\\site-packages\\sklearn\\neighbors\\_classification.py:215: DataConversionWarning: A column-vector y was passed when a 1d array was expected. Please change the shape of y to (n_samples,), for example using ravel().\n",
      "  return self._fit(X, y)\n"
     ]
    },
    {
     "name": "stdout",
     "output_type": "stream",
     "text": [
      "Accuracy : 0.8170727185078058\n",
      "Time taken : 0.3880593776702881\n"
     ]
    }
   ],
   "source": [
    "t0=time.time()\n",
    "clf_knn = KNeighborsClassifier(n_neighbors=9)\n",
    "clf_knn.fit(X_train,y_train)\n",
    "y_pred = clf_knn.predict(X_test)\n",
    "score = accuracy_score(y_test,y_pred)\n",
    "print('Accuracy :',score)\n",
    "print('Time taken :' , time.time()-t0)"
   ]
  },
  {
   "cell_type": "markdown",
   "metadata": {
    "papermill": {
     "duration": 0.020537,
     "end_time": "2021-03-23T09:44:20.857385",
     "exception": false,
     "start_time": "2021-03-23T09:44:20.836848",
     "status": "completed"
    },
    "tags": []
   },
   "source": [
    "### Random Forest Classifier "
   ]
  },
  {
   "cell_type": "code",
   "execution_count": 18,
   "metadata": {
    "execution": {
     "iopub.execute_input": "2021-03-23T09:44:20.909255Z",
     "iopub.status.busy": "2021-03-23T09:44:20.907033Z",
     "iopub.status.idle": "2021-03-23T09:44:23.156232Z",
     "shell.execute_reply": "2021-03-23T09:44:23.156811Z"
    },
    "papermill": {
     "duration": 2.278543,
     "end_time": "2021-03-23T09:44:23.157024",
     "exception": false,
     "start_time": "2021-03-23T09:44:20.878481",
     "status": "completed"
    },
    "tags": []
   },
   "outputs": [
    {
     "name": "stderr",
     "output_type": "stream",
     "text": [
      "C:\\Users\\fedor\\AppData\\Local\\Temp\\ipykernel_14924\\1556846239.py:3: DataConversionWarning: A column-vector y was passed when a 1d array was expected. Please change the shape of y to (n_samples,), for example using ravel().\n",
      "  clf_rf.fit(X_train,y_train)\n"
     ]
    },
    {
     "name": "stdout",
     "output_type": "stream",
     "text": [
      "Accuracy : 0.8348351689101494\n",
      "Time taken : 1.117785930633545\n"
     ]
    }
   ],
   "source": [
    "t0=time.time()\n",
    "clf_rf = RandomForestClassifier(n_estimators=100, max_depth=4,random_state=0)\n",
    "clf_rf.fit(X_train,y_train)\n",
    "y_pred = clf_rf.predict(X_test)\n",
    "score = accuracy_score(y_test,y_pred)\n",
    "print('Accuracy :',score)\n",
    "print('Time taken :' , time.time()-t0)"
   ]
  },
  {
   "cell_type": "markdown",
   "metadata": {
    "papermill": {
     "duration": 0.021764,
     "end_time": "2021-03-23T09:44:23.200874",
     "exception": false,
     "start_time": "2021-03-23T09:44:23.179110",
     "status": "completed"
    },
    "tags": []
   },
   "source": [
    "### Support Vector Machine"
   ]
  },
  {
   "cell_type": "code",
   "execution_count": 25,
   "metadata": {
    "execution": {
     "iopub.execute_input": "2021-03-23T09:44:23.256674Z",
     "iopub.status.busy": "2021-03-23T09:44:23.255707Z",
     "iopub.status.idle": "2021-03-23T09:46:58.077590Z",
     "shell.execute_reply": "2021-03-23T09:46:58.078137Z"
    },
    "papermill": {
     "duration": 154.855138,
     "end_time": "2021-03-23T09:46:58.078372",
     "exception": false,
     "start_time": "2021-03-23T09:44:23.223234",
     "status": "completed"
    },
    "tags": []
   },
   "outputs": [
    {
     "name": "stderr",
     "output_type": "stream",
     "text": [
      "C:\\Users\\fedor\\AppData\\Local\\Packages\\PythonSoftwareFoundation.Python.3.11_qbz5n2kfra8p0\\LocalCache\\local-packages\\Python311\\site-packages\\sklearn\\utils\\validation.py:1143: DataConversionWarning: A column-vector y was passed when a 1d array was expected. Please change the shape of y to (n_samples, ), for example using ravel().\n",
      "  y = column_or_1d(y, warn=True)\n"
     ]
    },
    {
     "name": "stdout",
     "output_type": "stream",
     "text": [
      "Accuracy : 0.79148589016205\n",
      "Time taken : 42.51206398010254\n"
     ]
    }
   ],
   "source": [
    "t0=time.time()\n",
    "clf_svc = svm.SVC(kernel='linear')\n",
    "clf_svc.fit(X_train,y_train)\n",
    "y_pred = clf_svc.predict(X_test)\n",
    "score = accuracy_score(y_test,y_pred)\n",
    "print('Accuracy :',score)\n",
    "print('Time taken :' , time.time()-t0)"
   ]
  },
  {
   "cell_type": "markdown",
   "metadata": {
    "papermill": {
     "duration": 0.024147,
     "end_time": "2021-03-23T09:46:58.126329",
     "exception": false,
     "start_time": "2021-03-23T09:46:58.102182",
     "status": "completed"
    },
    "tags": []
   },
   "source": [
    "### Light GBM"
   ]
  },
  {
   "cell_type": "code",
   "execution_count": 24,
   "metadata": {
    "execution": {
     "iopub.execute_input": "2021-03-23T09:46:58.180236Z",
     "iopub.status.busy": "2021-03-23T09:46:58.179066Z",
     "iopub.status.idle": "2021-03-23T09:46:58.229273Z",
     "shell.execute_reply": "2021-03-23T09:46:58.228199Z"
    },
    "papermill": {
     "duration": 0.078948,
     "end_time": "2021-03-23T09:46:58.229524",
     "exception": false,
     "start_time": "2021-03-23T09:46:58.150576",
     "status": "completed"
    },
    "tags": []
   },
   "outputs": [
    {
     "name": "stderr",
     "output_type": "stream",
     "text": [
      "C:\\Users\\fedor\\AppData\\Local\\Packages\\PythonSoftwareFoundation.Python.3.11_qbz5n2kfra8p0\\LocalCache\\local-packages\\Python311\\site-packages\\sklearn\\preprocessing\\_label.py:99: DataConversionWarning: A column-vector y was passed when a 1d array was expected. Please change the shape of y to (n_samples, ), for example using ravel().\n",
      "  y = column_or_1d(y, warn=True)\n",
      "C:\\Users\\fedor\\AppData\\Local\\Packages\\PythonSoftwareFoundation.Python.3.11_qbz5n2kfra8p0\\LocalCache\\local-packages\\Python311\\site-packages\\sklearn\\preprocessing\\_label.py:134: DataConversionWarning: A column-vector y was passed when a 1d array was expected. Please change the shape of y to (n_samples, ), for example using ravel().\n",
      "  y = column_or_1d(y, dtype=self.classes_.dtype, warn=True)\n"
     ]
    },
    {
     "name": "stdout",
     "output_type": "stream",
     "text": [
      "Accuracy : 0.8348351689101494\n",
      "Time taken : 0.20401954650878906\n"
     ]
    }
   ],
   "source": [
    "from  lightgbm import LGBMClassifier\n",
    "\n",
    "t0=time.time()\n",
    "clf_lgmb = LGBMClassifier()\n",
    "clf_lgmb.fit(X_train,y_train)\n",
    "y_pred = clf_lgmb.predict(X_test)\n",
    "score = accuracy_score(y_test,y_pred)\n",
    "print('Accuracy :',score)\n",
    "print('Time taken :' , time.time()-t0)"
   ]
  },
  {
   "cell_type": "markdown",
   "metadata": {
    "papermill": {
     "duration": 0.024147,
     "end_time": "2021-03-23T09:46:58.126329",
     "exception": false,
     "start_time": "2021-03-23T09:46:58.102182",
     "status": "completed"
    },
    "tags": []
   },
   "source": [
    "### Ensemble"
   ]
  },
  {
   "cell_type": "code",
   "execution_count": null,
   "metadata": {},
   "outputs": [],
   "source": [
    "from sklearn.ensemble import VotingClassifier\n",
    "\n",
    "ensemble = VotingClassifier(estimators=[('rf', clf_rf), ('svc', clf_svc), ('knn', clf_knn), ('clf_lgmb', lgb)], voting='soft')\n",
    "\n",
    "ensemble.fit(x_train, y_train)\n",
    "\n",
    "y_pred_ensemble = ensemble.predict(x_test)"
   ]
  },
  {
   "cell_type": "markdown",
   "metadata": {},
   "source": [
    "## Save"
   ]
  },
  {
   "cell_type": "code",
   "execution_count": null,
   "metadata": {},
   "outputs": [],
   "source": [
    "import joblib\n",
    "for name, clf in zipped_clf:\n",
    "    joblib.dump(clf, f\"{name}.pkl\")"
   ]
  }
 ],
 "metadata": {
  "kernelspec": {
   "display_name": "Python 3 (ipykernel)",
   "language": "python",
   "name": "python3"
  },
  "language_info": {
   "codemirror_mode": {
    "name": "ipython",
    "version": 3
   },
   "file_extension": ".py",
   "mimetype": "text/x-python",
   "name": "python",
   "nbconvert_exporter": "python",
   "pygments_lexer": "ipython3",
   "version": "3.11.3"
  },
  "papermill": {
   "default_parameters": {},
   "duration": 169.953925,
   "end_time": "2021-03-23T09:46:58.966202",
   "environment_variables": {},
   "exception": null,
   "input_path": "__notebook__.ipynb",
   "output_path": "__notebook__.ipynb",
   "parameters": {},
   "start_time": "2021-03-23T09:44:09.012277",
   "version": "2.2.2"
  }
 },
 "nbformat": 4,
 "nbformat_minor": 4
}
